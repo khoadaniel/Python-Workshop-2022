{
 "cells": [
  {
   "cell_type": "code",
   "execution_count": 7,
   "id": "a48a895e-9a27-4c25-a8ae-407bac4b297c",
   "metadata": {},
   "outputs": [],
   "source": [
    "import pandas as pd"
   ]
  },
  {
   "cell_type": "code",
   "execution_count": 30,
   "id": "3819eac0-f4d1-4aad-a6cc-f7377c3ed3c5",
   "metadata": {},
   "outputs": [],
   "source": [
    "data = pd.read_csv('oil_raw.csv')"
   ]
  },
  {
   "cell_type": "code",
   "execution_count": 31,
   "id": "4a16e1ad-3597-4fa8-9eba-f0745d8506e6",
   "metadata": {},
   "outputs": [
    {
     "data": {
      "text/html": [
       "<div>\n",
       "<style scoped>\n",
       "    .dataframe tbody tr th:only-of-type {\n",
       "        vertical-align: middle;\n",
       "    }\n",
       "\n",
       "    .dataframe tbody tr th {\n",
       "        vertical-align: top;\n",
       "    }\n",
       "\n",
       "    .dataframe thead th {\n",
       "        text-align: right;\n",
       "    }\n",
       "</style>\n",
       "<table border=\"1\" class=\"dataframe\">\n",
       "  <thead>\n",
       "    <tr style=\"text-align: right;\">\n",
       "      <th></th>\n",
       "      <th>Methode</th>\n",
       "      <th>Porosität_%</th>\n",
       "      <th>Druchlässigkeit_mD</th>\n",
       "      <th>Tiefe_m</th>\n",
       "      <th>Dichte_API</th>\n",
       "      <th>Viskosität_cP</th>\n",
       "      <th>Temp_C</th>\n",
       "      <th>Sättigung_%</th>\n",
       "    </tr>\n",
       "  </thead>\n",
       "  <tbody>\n",
       "    <tr>\n",
       "      <th>3086</th>\n",
       "      <td>Kohlenwasserstoff</td>\n",
       "      <td>26.0</td>\n",
       "      <td>1250.0</td>\n",
       "      <td>3048.00</td>\n",
       "      <td>38.0</td>\n",
       "      <td>0.50</td>\n",
       "      <td>82.222222</td>\n",
       "      <td>68.0</td>\n",
       "    </tr>\n",
       "    <tr>\n",
       "      <th>3087</th>\n",
       "      <td>Kohlenwasserstoff</td>\n",
       "      <td>26.0</td>\n",
       "      <td>1000.0</td>\n",
       "      <td>3352.80</td>\n",
       "      <td>38.0</td>\n",
       "      <td>0.70</td>\n",
       "      <td>73.888889</td>\n",
       "      <td>68.0</td>\n",
       "    </tr>\n",
       "    <tr>\n",
       "      <th>3088</th>\n",
       "      <td>Kohlenwasserstoff</td>\n",
       "      <td>24.0</td>\n",
       "      <td>275.0</td>\n",
       "      <td>1828.80</td>\n",
       "      <td>24.0</td>\n",
       "      <td>2.00</td>\n",
       "      <td>71.111111</td>\n",
       "      <td>75.0</td>\n",
       "    </tr>\n",
       "    <tr>\n",
       "      <th>3089</th>\n",
       "      <td>Kohlenwasserstoff</td>\n",
       "      <td>21.0</td>\n",
       "      <td>20.0</td>\n",
       "      <td>1584.96</td>\n",
       "      <td>37.0</td>\n",
       "      <td>0.60</td>\n",
       "      <td>61.111111</td>\n",
       "      <td>65.0</td>\n",
       "    </tr>\n",
       "    <tr>\n",
       "      <th>3090</th>\n",
       "      <td>Kohlenwasserstoff</td>\n",
       "      <td>19.0</td>\n",
       "      <td>20.0</td>\n",
       "      <td>2133.60</td>\n",
       "      <td>40.0</td>\n",
       "      <td>0.45</td>\n",
       "      <td>71.111111</td>\n",
       "      <td>80.0</td>\n",
       "    </tr>\n",
       "  </tbody>\n",
       "</table>\n",
       "</div>"
      ],
      "text/plain": [
       "                Methode  Porosität_%  Druchlässigkeit_mD  Tiefe_m  Dichte_API  \\\n",
       "3086  Kohlenwasserstoff         26.0              1250.0  3048.00        38.0   \n",
       "3087  Kohlenwasserstoff         26.0              1000.0  3352.80        38.0   \n",
       "3088  Kohlenwasserstoff         24.0               275.0  1828.80        24.0   \n",
       "3089  Kohlenwasserstoff         21.0                20.0  1584.96        37.0   \n",
       "3090  Kohlenwasserstoff         19.0                20.0  2133.60        40.0   \n",
       "\n",
       "      Viskosität_cP     Temp_C  Sättigung_%  \n",
       "3086           0.50  82.222222         68.0  \n",
       "3087           0.70  73.888889         68.0  \n",
       "3088           2.00  71.111111         75.0  \n",
       "3089           0.60  61.111111         65.0  \n",
       "3090           0.45  71.111111         80.0  "
      ]
     },
     "execution_count": 31,
     "metadata": {},
     "output_type": "execute_result"
    }
   ],
   "source": [
    "data.tail()"
   ]
  },
  {
   "cell_type": "markdown",
   "id": "b58c7f35-b7c8-43ae-b2f8-cbd22c81999b",
   "metadata": {},
   "source": [
    "## Missing values"
   ]
  },
  {
   "cell_type": "code",
   "execution_count": 13,
   "id": "7b9b4a7a-5384-4c02-9bb1-47843a96e018",
   "metadata": {},
   "outputs": [
    {
     "data": {
      "text/plain": [
       "76"
      ]
     },
     "execution_count": 13,
     "metadata": {},
     "output_type": "execute_result"
    }
   ],
   "source": [
    "data.isna().any(axis=1).sum()"
   ]
  },
  {
   "cell_type": "code",
   "execution_count": 14,
   "id": "658fdcb9-e604-4dc3-a2db-de419fa702a1",
   "metadata": {},
   "outputs": [
    {
     "data": {
      "text/plain": [
       "3091"
      ]
     },
     "execution_count": 14,
     "metadata": {},
     "output_type": "execute_result"
    }
   ],
   "source": [
    "len(data)"
   ]
  },
  {
   "cell_type": "code",
   "execution_count": 15,
   "id": "ff3aa86c-2497-4780-8d5c-ed7507bd4162",
   "metadata": {},
   "outputs": [
    {
     "data": {
      "text/plain": [
       "0.024587512131996118"
      ]
     },
     "execution_count": 15,
     "metadata": {},
     "output_type": "execute_result"
    }
   ],
   "source": [
    "data.isna().any(axis=1).sum() / len(data)"
   ]
  },
  {
   "cell_type": "code",
   "execution_count": 16,
   "id": "865b0a8c-f81e-4060-9450-aee2805ea0c3",
   "metadata": {},
   "outputs": [
    {
     "data": {
      "text/html": [
       "<div>\n",
       "<style scoped>\n",
       "    .dataframe tbody tr th:only-of-type {\n",
       "        vertical-align: middle;\n",
       "    }\n",
       "\n",
       "    .dataframe tbody tr th {\n",
       "        vertical-align: top;\n",
       "    }\n",
       "\n",
       "    .dataframe thead th {\n",
       "        text-align: right;\n",
       "    }\n",
       "</style>\n",
       "<table border=\"1\" class=\"dataframe\">\n",
       "  <thead>\n",
       "    <tr style=\"text-align: right;\">\n",
       "      <th></th>\n",
       "      <th>Methode</th>\n",
       "      <th>Porosität_%</th>\n",
       "      <th>Druchlässigkeit_mD</th>\n",
       "      <th>Tiefe_m</th>\n",
       "      <th>Dichte_API</th>\n",
       "      <th>Viskosität_cP</th>\n",
       "      <th>Temp_C</th>\n",
       "      <th>Sättigung_%</th>\n",
       "    </tr>\n",
       "  </thead>\n",
       "  <tbody>\n",
       "    <tr>\n",
       "      <th>1734</th>\n",
       "      <td>Kohlendioxid</td>\n",
       "      <td>7.0</td>\n",
       "      <td>10.0</td>\n",
       "      <td>2133.600</td>\n",
       "      <td>35.0</td>\n",
       "      <td>NaN</td>\n",
       "      <td>50.555556</td>\n",
       "      <td>48.00</td>\n",
       "    </tr>\n",
       "    <tr>\n",
       "      <th>1737</th>\n",
       "      <td>Kohlendioxid</td>\n",
       "      <td>21.8</td>\n",
       "      <td>23.7</td>\n",
       "      <td>1371.600</td>\n",
       "      <td>40.5</td>\n",
       "      <td>NaN</td>\n",
       "      <td>36.111111</td>\n",
       "      <td>40.30</td>\n",
       "    </tr>\n",
       "    <tr>\n",
       "      <th>1738</th>\n",
       "      <td>Kohlendioxid</td>\n",
       "      <td>11.6</td>\n",
       "      <td>32.0</td>\n",
       "      <td>1280.160</td>\n",
       "      <td>38.0</td>\n",
       "      <td>NaN</td>\n",
       "      <td>50.555556</td>\n",
       "      <td>48.00</td>\n",
       "    </tr>\n",
       "    <tr>\n",
       "      <th>1780</th>\n",
       "      <td>Kohlendioxid</td>\n",
       "      <td>8.4</td>\n",
       "      <td>1.5</td>\n",
       "      <td>1584.960</td>\n",
       "      <td>32.0</td>\n",
       "      <td>1.46</td>\n",
       "      <td>41.666667</td>\n",
       "      <td>NaN</td>\n",
       "    </tr>\n",
       "    <tr>\n",
       "      <th>1833</th>\n",
       "      <td>Dampf</td>\n",
       "      <td>26.0</td>\n",
       "      <td>4000.0</td>\n",
       "      <td>246.888</td>\n",
       "      <td>13.0</td>\n",
       "      <td>NaN</td>\n",
       "      <td>32.777778</td>\n",
       "      <td>70.00</td>\n",
       "    </tr>\n",
       "    <tr>\n",
       "      <th>1881</th>\n",
       "      <td>Verbrennung</td>\n",
       "      <td>32.0</td>\n",
       "      <td>650.0</td>\n",
       "      <td>121.920</td>\n",
       "      <td>19.0</td>\n",
       "      <td>660.00</td>\n",
       "      <td>NaN</td>\n",
       "      <td>94.00</td>\n",
       "    </tr>\n",
       "    <tr>\n",
       "      <th>2007</th>\n",
       "      <td>Verbrennung</td>\n",
       "      <td>32.0</td>\n",
       "      <td>650.0</td>\n",
       "      <td>121.920</td>\n",
       "      <td>19.0</td>\n",
       "      <td>660.00</td>\n",
       "      <td>NaN</td>\n",
       "      <td>94.00</td>\n",
       "    </tr>\n",
       "    <tr>\n",
       "      <th>2018</th>\n",
       "      <td>Kohlendioxid</td>\n",
       "      <td>10.0</td>\n",
       "      <td>4.0</td>\n",
       "      <td>1524.000</td>\n",
       "      <td>31.0</td>\n",
       "      <td>NaN</td>\n",
       "      <td>42.222222</td>\n",
       "      <td>51.00</td>\n",
       "    </tr>\n",
       "    <tr>\n",
       "      <th>2142</th>\n",
       "      <td>Kohlendioxid</td>\n",
       "      <td>10.0</td>\n",
       "      <td>4.0</td>\n",
       "      <td>1524.000</td>\n",
       "      <td>31.0</td>\n",
       "      <td>NaN</td>\n",
       "      <td>42.222222</td>\n",
       "      <td>48.34</td>\n",
       "    </tr>\n",
       "    <tr>\n",
       "      <th>2253</th>\n",
       "      <td>Dampf</td>\n",
       "      <td>NaN</td>\n",
       "      <td>NaN</td>\n",
       "      <td>NaN</td>\n",
       "      <td>NaN</td>\n",
       "      <td>NaN</td>\n",
       "      <td>NaN</td>\n",
       "      <td>NaN</td>\n",
       "    </tr>\n",
       "    <tr>\n",
       "      <th>2291</th>\n",
       "      <td>Kohlendioxid</td>\n",
       "      <td>NaN</td>\n",
       "      <td>75.0</td>\n",
       "      <td>3215.640</td>\n",
       "      <td>40.0</td>\n",
       "      <td>1.00</td>\n",
       "      <td>120.000000</td>\n",
       "      <td>NaN</td>\n",
       "    </tr>\n",
       "    <tr>\n",
       "      <th>2303</th>\n",
       "      <td>Kohlendioxid</td>\n",
       "      <td>7.0</td>\n",
       "      <td>10.0</td>\n",
       "      <td>2133.600</td>\n",
       "      <td>35.0</td>\n",
       "      <td>1.00</td>\n",
       "      <td>NaN</td>\n",
       "      <td>43.00</td>\n",
       "    </tr>\n",
       "    <tr>\n",
       "      <th>2343</th>\n",
       "      <td>Kohlendioxid</td>\n",
       "      <td>11.6</td>\n",
       "      <td>32.0</td>\n",
       "      <td>1280.160</td>\n",
       "      <td>35.0</td>\n",
       "      <td>NaN</td>\n",
       "      <td>NaN</td>\n",
       "      <td>43.00</td>\n",
       "    </tr>\n",
       "    <tr>\n",
       "      <th>2641</th>\n",
       "      <td>Kohlendioxid</td>\n",
       "      <td>14.0</td>\n",
       "      <td>41.0</td>\n",
       "      <td>914.400</td>\n",
       "      <td>37.0</td>\n",
       "      <td>1.72</td>\n",
       "      <td>NaN</td>\n",
       "      <td>48.48</td>\n",
       "    </tr>\n",
       "    <tr>\n",
       "      <th>2649</th>\n",
       "      <td>Kohlendioxid</td>\n",
       "      <td>7.0</td>\n",
       "      <td>10.0</td>\n",
       "      <td>2133.600</td>\n",
       "      <td>35.0</td>\n",
       "      <td>1.72</td>\n",
       "      <td>NaN</td>\n",
       "      <td>47.48</td>\n",
       "    </tr>\n",
       "    <tr>\n",
       "      <th>2824</th>\n",
       "      <td>Kohlendioxid</td>\n",
       "      <td>14.0</td>\n",
       "      <td>76.0</td>\n",
       "      <td>914.400</td>\n",
       "      <td>37.0</td>\n",
       "      <td>1.33</td>\n",
       "      <td>NaN</td>\n",
       "      <td>46.73</td>\n",
       "    </tr>\n",
       "    <tr>\n",
       "      <th>2832</th>\n",
       "      <td>Kohlendioxid</td>\n",
       "      <td>7.0</td>\n",
       "      <td>10.0</td>\n",
       "      <td>2133.600</td>\n",
       "      <td>35.0</td>\n",
       "      <td>1.33</td>\n",
       "      <td>NaN</td>\n",
       "      <td>46.73</td>\n",
       "    </tr>\n",
       "    <tr>\n",
       "      <th>2939</th>\n",
       "      <td>Verbrennung</td>\n",
       "      <td>32.0</td>\n",
       "      <td>650.0</td>\n",
       "      <td>121.920</td>\n",
       "      <td>19.0</td>\n",
       "      <td>660.00</td>\n",
       "      <td>NaN</td>\n",
       "      <td>94.00</td>\n",
       "    </tr>\n",
       "    <tr>\n",
       "      <th>3029</th>\n",
       "      <td>Kohlendioxid</td>\n",
       "      <td>7.0</td>\n",
       "      <td>10.0</td>\n",
       "      <td>2133.600</td>\n",
       "      <td>35.0</td>\n",
       "      <td>1.32</td>\n",
       "      <td>NaN</td>\n",
       "      <td>51.00</td>\n",
       "    </tr>\n",
       "    <tr>\n",
       "      <th>3078</th>\n",
       "      <td>Kohlenwasserstoff</td>\n",
       "      <td>NaN</td>\n",
       "      <td>NaN</td>\n",
       "      <td>NaN</td>\n",
       "      <td>NaN</td>\n",
       "      <td>NaN</td>\n",
       "      <td>NaN</td>\n",
       "      <td>NaN</td>\n",
       "    </tr>\n",
       "  </tbody>\n",
       "</table>\n",
       "</div>"
      ],
      "text/plain": [
       "                Methode  Porosität_%  Druchlässigkeit_mD   Tiefe_m  \\\n",
       "1734       Kohlendioxid          7.0                10.0  2133.600   \n",
       "1737       Kohlendioxid         21.8                23.7  1371.600   \n",
       "1738       Kohlendioxid         11.6                32.0  1280.160   \n",
       "1780       Kohlendioxid          8.4                 1.5  1584.960   \n",
       "1833              Dampf         26.0              4000.0   246.888   \n",
       "1881        Verbrennung         32.0               650.0   121.920   \n",
       "2007        Verbrennung         32.0               650.0   121.920   \n",
       "2018       Kohlendioxid         10.0                 4.0  1524.000   \n",
       "2142       Kohlendioxid         10.0                 4.0  1524.000   \n",
       "2253              Dampf          NaN                 NaN       NaN   \n",
       "2291       Kohlendioxid          NaN                75.0  3215.640   \n",
       "2303       Kohlendioxid          7.0                10.0  2133.600   \n",
       "2343       Kohlendioxid         11.6                32.0  1280.160   \n",
       "2641       Kohlendioxid         14.0                41.0   914.400   \n",
       "2649       Kohlendioxid          7.0                10.0  2133.600   \n",
       "2824       Kohlendioxid         14.0                76.0   914.400   \n",
       "2832       Kohlendioxid          7.0                10.0  2133.600   \n",
       "2939        Verbrennung         32.0               650.0   121.920   \n",
       "3029       Kohlendioxid          7.0                10.0  2133.600   \n",
       "3078  Kohlenwasserstoff          NaN                 NaN       NaN   \n",
       "\n",
       "      Dichte_API  Viskosität_cP      Temp_C  Sättigung_%  \n",
       "1734        35.0            NaN   50.555556        48.00  \n",
       "1737        40.5            NaN   36.111111        40.30  \n",
       "1738        38.0            NaN   50.555556        48.00  \n",
       "1780        32.0           1.46   41.666667          NaN  \n",
       "1833        13.0            NaN   32.777778        70.00  \n",
       "1881        19.0         660.00         NaN        94.00  \n",
       "2007        19.0         660.00         NaN        94.00  \n",
       "2018        31.0            NaN   42.222222        51.00  \n",
       "2142        31.0            NaN   42.222222        48.34  \n",
       "2253         NaN            NaN         NaN          NaN  \n",
       "2291        40.0           1.00  120.000000          NaN  \n",
       "2303        35.0           1.00         NaN        43.00  \n",
       "2343        35.0            NaN         NaN        43.00  \n",
       "2641        37.0           1.72         NaN        48.48  \n",
       "2649        35.0           1.72         NaN        47.48  \n",
       "2824        37.0           1.33         NaN        46.73  \n",
       "2832        35.0           1.33         NaN        46.73  \n",
       "2939        19.0         660.00         NaN        94.00  \n",
       "3029        35.0           1.32         NaN        51.00  \n",
       "3078         NaN            NaN         NaN          NaN  "
      ]
     },
     "execution_count": 16,
     "metadata": {},
     "output_type": "execute_result"
    }
   ],
   "source": [
    "data[data.isna().any(axis=1)].tail(20)"
   ]
  },
  {
   "cell_type": "code",
   "execution_count": 17,
   "id": "e1941de4-41f3-4aaf-877f-d5f3d83cbc97",
   "metadata": {},
   "outputs": [],
   "source": [
    "data.dropna(inplace=True)"
   ]
  },
  {
   "cell_type": "code",
   "execution_count": 18,
   "id": "c878e0f6-b811-4ffb-aa2e-7217305e1bea",
   "metadata": {},
   "outputs": [
    {
     "data": {
      "text/plain": [
       "Methode               0\n",
       "Porosität_%           0\n",
       "Druchlässigkeit_mD    0\n",
       "Tiefe_m               0\n",
       "Dichte_API            0\n",
       "Viskosität_cP         0\n",
       "Temp_C                0\n",
       "Sättigung_%           0\n",
       "dtype: int64"
      ]
     },
     "execution_count": 18,
     "metadata": {},
     "output_type": "execute_result"
    }
   ],
   "source": [
    "data.isna().sum()"
   ]
  },
  {
   "cell_type": "markdown",
   "id": "d9f06b67-3bf1-4f5f-86fd-7c26cd6b07ce",
   "metadata": {},
   "source": [
    "## Correct data types"
   ]
  },
  {
   "cell_type": "code",
   "execution_count": 19,
   "id": "db75a4a1-589f-412c-b53d-d58c7e756b05",
   "metadata": {},
   "outputs": [
    {
     "data": {
      "text/plain": [
       "Methode                object\n",
       "Porosität_%           float64\n",
       "Druchlässigkeit_mD    float64\n",
       "Tiefe_m               float64\n",
       "Dichte_API            float64\n",
       "Viskosität_cP         float64\n",
       "Temp_C                float64\n",
       "Sättigung_%           float64\n",
       "dtype: object"
      ]
     },
     "execution_count": 19,
     "metadata": {},
     "output_type": "execute_result"
    }
   ],
   "source": [
    "data.dtypes"
   ]
  },
  {
   "cell_type": "markdown",
   "id": "2d5f052d-5ce0-417f-b6e9-9782eccbcead",
   "metadata": {},
   "source": [
    "### One Hot Encoding (NOMINAL)"
   ]
  },
  {
   "cell_type": "code",
   "execution_count": 20,
   "id": "71decb96-a8a8-4d9e-b4d9-69546386dc7c",
   "metadata": {},
   "outputs": [
    {
     "data": {
      "text/html": [
       "<div>\n",
       "<style scoped>\n",
       "    .dataframe tbody tr th:only-of-type {\n",
       "        vertical-align: middle;\n",
       "    }\n",
       "\n",
       "    .dataframe tbody tr th {\n",
       "        vertical-align: top;\n",
       "    }\n",
       "\n",
       "    .dataframe thead th {\n",
       "        text-align: right;\n",
       "    }\n",
       "</style>\n",
       "<table border=\"1\" class=\"dataframe\">\n",
       "  <thead>\n",
       "    <tr style=\"text-align: right;\">\n",
       "      <th></th>\n",
       "      <th>method_Dampf</th>\n",
       "      <th>method_Kohlendioxid</th>\n",
       "      <th>method_Kohlenwasserstoff</th>\n",
       "      <th>method_Polymer</th>\n",
       "      <th>method_Verbrennung</th>\n",
       "    </tr>\n",
       "  </thead>\n",
       "  <tbody>\n",
       "    <tr>\n",
       "      <th>0</th>\n",
       "      <td>1</td>\n",
       "      <td>0</td>\n",
       "      <td>0</td>\n",
       "      <td>0</td>\n",
       "      <td>0</td>\n",
       "    </tr>\n",
       "    <tr>\n",
       "      <th>1</th>\n",
       "      <td>1</td>\n",
       "      <td>0</td>\n",
       "      <td>0</td>\n",
       "      <td>0</td>\n",
       "      <td>0</td>\n",
       "    </tr>\n",
       "    <tr>\n",
       "      <th>2</th>\n",
       "      <td>1</td>\n",
       "      <td>0</td>\n",
       "      <td>0</td>\n",
       "      <td>0</td>\n",
       "      <td>0</td>\n",
       "    </tr>\n",
       "    <tr>\n",
       "      <th>3</th>\n",
       "      <td>1</td>\n",
       "      <td>0</td>\n",
       "      <td>0</td>\n",
       "      <td>0</td>\n",
       "      <td>0</td>\n",
       "    </tr>\n",
       "    <tr>\n",
       "      <th>4</th>\n",
       "      <td>1</td>\n",
       "      <td>0</td>\n",
       "      <td>0</td>\n",
       "      <td>0</td>\n",
       "      <td>0</td>\n",
       "    </tr>\n",
       "    <tr>\n",
       "      <th>...</th>\n",
       "      <td>...</td>\n",
       "      <td>...</td>\n",
       "      <td>...</td>\n",
       "      <td>...</td>\n",
       "      <td>...</td>\n",
       "    </tr>\n",
       "    <tr>\n",
       "      <th>3086</th>\n",
       "      <td>0</td>\n",
       "      <td>0</td>\n",
       "      <td>1</td>\n",
       "      <td>0</td>\n",
       "      <td>0</td>\n",
       "    </tr>\n",
       "    <tr>\n",
       "      <th>3087</th>\n",
       "      <td>0</td>\n",
       "      <td>0</td>\n",
       "      <td>1</td>\n",
       "      <td>0</td>\n",
       "      <td>0</td>\n",
       "    </tr>\n",
       "    <tr>\n",
       "      <th>3088</th>\n",
       "      <td>0</td>\n",
       "      <td>0</td>\n",
       "      <td>1</td>\n",
       "      <td>0</td>\n",
       "      <td>0</td>\n",
       "    </tr>\n",
       "    <tr>\n",
       "      <th>3089</th>\n",
       "      <td>0</td>\n",
       "      <td>0</td>\n",
       "      <td>1</td>\n",
       "      <td>0</td>\n",
       "      <td>0</td>\n",
       "    </tr>\n",
       "    <tr>\n",
       "      <th>3090</th>\n",
       "      <td>0</td>\n",
       "      <td>0</td>\n",
       "      <td>1</td>\n",
       "      <td>0</td>\n",
       "      <td>0</td>\n",
       "    </tr>\n",
       "  </tbody>\n",
       "</table>\n",
       "<p>3015 rows × 5 columns</p>\n",
       "</div>"
      ],
      "text/plain": [
       "      method_Dampf  method_Kohlendioxid  method_Kohlenwasserstoff  \\\n",
       "0                1                    0                         0   \n",
       "1                1                    0                         0   \n",
       "2                1                    0                         0   \n",
       "3                1                    0                         0   \n",
       "4                1                    0                         0   \n",
       "...            ...                  ...                       ...   \n",
       "3086             0                    0                         1   \n",
       "3087             0                    0                         1   \n",
       "3088             0                    0                         1   \n",
       "3089             0                    0                         1   \n",
       "3090             0                    0                         1   \n",
       "\n",
       "      method_Polymer  method_Verbrennung  \n",
       "0                  0                   0  \n",
       "1                  0                   0  \n",
       "2                  0                   0  \n",
       "3                  0                   0  \n",
       "4                  0                   0  \n",
       "...              ...                 ...  \n",
       "3086               0                   0  \n",
       "3087               0                   0  \n",
       "3088               0                   0  \n",
       "3089               0                   0  \n",
       "3090               0                   0  \n",
       "\n",
       "[3015 rows x 5 columns]"
      ]
     },
     "execution_count": 20,
     "metadata": {},
     "output_type": "execute_result"
    }
   ],
   "source": [
    "pd.get_dummies(data.Methode, prefix='method')"
   ]
  },
  {
   "cell_type": "markdown",
   "id": "45c497cf-9402-4df1-b595-a32626201197",
   "metadata": {},
   "source": [
    "### Label Encoding - order given (ORDINAL)"
   ]
  },
  {
   "cell_type": "code",
   "execution_count": null,
   "id": "903213ae-8c9e-434d-9054-0b51cc0adc73",
   "metadata": {},
   "outputs": [
    {
     "data": {
      "text/plain": [
       "array(['Dampf', 'Verbrennung', 'Kohlendioxid', 'Polymer',\n",
       "       'Kohlenwasserstoff'], dtype=object)"
      ]
     },
     "execution_count": 23,
     "metadata": {},
     "output_type": "execute_result"
    }
   ],
   "source": [
    "data.Methode.unique()"
   ]
  },
  {
   "cell_type": "code",
   "execution_count": null,
   "id": "8ac2028c-201c-4f60-9eca-84dab0f0b1e2",
   "metadata": {},
   "outputs": [],
   "source": [
    "dict_classes = {'Dampf': 0, 'Verbrennung': 1, 'Kohlendioxid': 2, 'Polymer': 3, 'Kohlenwasserstoff': 4}"
   ]
  },
  {
   "cell_type": "code",
   "execution_count": null,
   "id": "3cdba822-4d49-43a0-b9b9-621d41147be6",
   "metadata": {},
   "outputs": [
    {
     "data": {
      "text/plain": [
       "0       0\n",
       "1       0\n",
       "2       0\n",
       "3       0\n",
       "4       0\n",
       "       ..\n",
       "3086    4\n",
       "3087    4\n",
       "3088    4\n",
       "3089    4\n",
       "3090    4\n",
       "Name: Methode, Length: 3015, dtype: int64"
      ]
     },
     "execution_count": 25,
     "metadata": {},
     "output_type": "execute_result"
    }
   ],
   "source": [
    "data.Methode.map(dict_classes)"
   ]
  },
  {
   "cell_type": "markdown",
   "id": "97744995-b372-4e0f-862f-fb17475aa885",
   "metadata": {},
   "source": [
    "# Enconding"
   ]
  },
  {
   "cell_type": "code",
   "execution_count": 32,
   "id": "8642ca1f",
   "metadata": {},
   "outputs": [],
   "source": [
    "from sklearn.preprocessing import LabelEncoder"
   ]
  },
  {
   "cell_type": "code",
   "execution_count": 33,
   "id": "b11367dd",
   "metadata": {},
   "outputs": [],
   "source": [
    "le = LabelEncoder()"
   ]
  },
  {
   "cell_type": "code",
   "execution_count": 34,
   "id": "3d4e3200",
   "metadata": {},
   "outputs": [
    {
     "ename": "AttributeError",
     "evalue": "module 'numpy' has no attribute 'matrix'",
     "output_type": "error",
     "traceback": [
      "\u001b[0;31m---------------------------------------------------------------------------\u001b[0m",
      "\u001b[0;31mAttributeError\u001b[0m                            Traceback (most recent call last)",
      "\u001b[0;32m<ipython-input-34-3efe21df3139>\u001b[0m in \u001b[0;36m<module>\u001b[0;34m\u001b[0m\n\u001b[0;32m----> 1\u001b[0;31m \u001b[0mle\u001b[0m\u001b[0;34m.\u001b[0m\u001b[0mfit\u001b[0m\u001b[0;34m(\u001b[0m\u001b[0mdata\u001b[0m\u001b[0;34m.\u001b[0m\u001b[0mMethode\u001b[0m\u001b[0;34m)\u001b[0m\u001b[0;34m\u001b[0m\u001b[0;34m\u001b[0m\u001b[0m\n\u001b[0m\u001b[1;32m      2\u001b[0m \u001b[0mle\u001b[0m\u001b[0;34m.\u001b[0m\u001b[0mfit_transform\u001b[0m\u001b[0;34m(\u001b[0m\u001b[0mdata\u001b[0m\u001b[0;34m.\u001b[0m\u001b[0mMethode\u001b[0m\u001b[0;34m)\u001b[0m\u001b[0;34m\u001b[0m\u001b[0;34m\u001b[0m\u001b[0m\n",
      "\u001b[0;32m/usr/local/anaconda/lib/python3.8/site-packages/sklearn/preprocessing/_label.py\u001b[0m in \u001b[0;36mfit\u001b[0;34m(self, y)\u001b[0m\n\u001b[1;32m     98\u001b[0m         \u001b[0mself\u001b[0m \u001b[0;34m:\u001b[0m \u001b[0mreturns\u001b[0m \u001b[0man\u001b[0m \u001b[0minstance\u001b[0m \u001b[0mof\u001b[0m \u001b[0mself\u001b[0m\u001b[0;34m.\u001b[0m\u001b[0;34m\u001b[0m\u001b[0;34m\u001b[0m\u001b[0m\n\u001b[1;32m     99\u001b[0m         \"\"\"\n\u001b[0;32m--> 100\u001b[0;31m         \u001b[0my\u001b[0m \u001b[0;34m=\u001b[0m \u001b[0mcolumn_or_1d\u001b[0m\u001b[0;34m(\u001b[0m\u001b[0my\u001b[0m\u001b[0;34m,\u001b[0m \u001b[0mwarn\u001b[0m\u001b[0;34m=\u001b[0m\u001b[0;32mTrue\u001b[0m\u001b[0;34m)\u001b[0m\u001b[0;34m\u001b[0m\u001b[0;34m\u001b[0m\u001b[0m\n\u001b[0m\u001b[1;32m    101\u001b[0m         \u001b[0mself\u001b[0m\u001b[0;34m.\u001b[0m\u001b[0mclasses_\u001b[0m \u001b[0;34m=\u001b[0m \u001b[0m_unique\u001b[0m\u001b[0;34m(\u001b[0m\u001b[0my\u001b[0m\u001b[0;34m)\u001b[0m\u001b[0;34m\u001b[0m\u001b[0;34m\u001b[0m\u001b[0m\n\u001b[1;32m    102\u001b[0m         \u001b[0;32mreturn\u001b[0m \u001b[0mself\u001b[0m\u001b[0;34m\u001b[0m\u001b[0;34m\u001b[0m\u001b[0m\n",
      "\u001b[0;32m/usr/local/anaconda/lib/python3.8/site-packages/sklearn/utils/validation.py\u001b[0m in \u001b[0;36minner_f\u001b[0;34m(*args, **kwargs)\u001b[0m\n\u001b[1;32m     61\u001b[0m             \u001b[0mextra_args\u001b[0m \u001b[0;34m=\u001b[0m \u001b[0mlen\u001b[0m\u001b[0;34m(\u001b[0m\u001b[0margs\u001b[0m\u001b[0;34m)\u001b[0m \u001b[0;34m-\u001b[0m \u001b[0mlen\u001b[0m\u001b[0;34m(\u001b[0m\u001b[0mall_args\u001b[0m\u001b[0;34m)\u001b[0m\u001b[0;34m\u001b[0m\u001b[0;34m\u001b[0m\u001b[0m\n\u001b[1;32m     62\u001b[0m             \u001b[0;32mif\u001b[0m \u001b[0mextra_args\u001b[0m \u001b[0;34m<=\u001b[0m \u001b[0;36m0\u001b[0m\u001b[0;34m:\u001b[0m\u001b[0;34m\u001b[0m\u001b[0;34m\u001b[0m\u001b[0m\n\u001b[0;32m---> 63\u001b[0;31m                 \u001b[0;32mreturn\u001b[0m \u001b[0mf\u001b[0m\u001b[0;34m(\u001b[0m\u001b[0;34m*\u001b[0m\u001b[0margs\u001b[0m\u001b[0;34m,\u001b[0m \u001b[0;34m**\u001b[0m\u001b[0mkwargs\u001b[0m\u001b[0;34m)\u001b[0m\u001b[0;34m\u001b[0m\u001b[0;34m\u001b[0m\u001b[0m\n\u001b[0m\u001b[1;32m     64\u001b[0m \u001b[0;34m\u001b[0m\u001b[0m\n\u001b[1;32m     65\u001b[0m             \u001b[0;31m# extra_args > 0\u001b[0m\u001b[0;34m\u001b[0m\u001b[0;34m\u001b[0m\u001b[0;34m\u001b[0m\u001b[0m\n",
      "\u001b[0;32m/usr/local/anaconda/lib/python3.8/site-packages/sklearn/utils/validation.py\u001b[0m in \u001b[0;36mcolumn_or_1d\u001b[0;34m(y, warn)\u001b[0m\n\u001b[1;32m    853\u001b[0m     \u001b[0mshape\u001b[0m \u001b[0;34m=\u001b[0m \u001b[0mnp\u001b[0m\u001b[0;34m.\u001b[0m\u001b[0mshape\u001b[0m\u001b[0;34m(\u001b[0m\u001b[0my\u001b[0m\u001b[0;34m)\u001b[0m\u001b[0;34m\u001b[0m\u001b[0;34m\u001b[0m\u001b[0m\n\u001b[1;32m    854\u001b[0m     \u001b[0;32mif\u001b[0m \u001b[0mlen\u001b[0m\u001b[0;34m(\u001b[0m\u001b[0mshape\u001b[0m\u001b[0;34m)\u001b[0m \u001b[0;34m==\u001b[0m \u001b[0;36m1\u001b[0m\u001b[0;34m:\u001b[0m\u001b[0;34m\u001b[0m\u001b[0;34m\u001b[0m\u001b[0m\n\u001b[0;32m--> 855\u001b[0;31m         \u001b[0;32mreturn\u001b[0m \u001b[0mnp\u001b[0m\u001b[0;34m.\u001b[0m\u001b[0mravel\u001b[0m\u001b[0;34m(\u001b[0m\u001b[0my\u001b[0m\u001b[0;34m)\u001b[0m\u001b[0;34m\u001b[0m\u001b[0;34m\u001b[0m\u001b[0m\n\u001b[0m\u001b[1;32m    856\u001b[0m     \u001b[0;32mif\u001b[0m \u001b[0mlen\u001b[0m\u001b[0;34m(\u001b[0m\u001b[0mshape\u001b[0m\u001b[0;34m)\u001b[0m \u001b[0;34m==\u001b[0m \u001b[0;36m2\u001b[0m \u001b[0;32mand\u001b[0m \u001b[0mshape\u001b[0m\u001b[0;34m[\u001b[0m\u001b[0;36m1\u001b[0m\u001b[0;34m]\u001b[0m \u001b[0;34m==\u001b[0m \u001b[0;36m1\u001b[0m\u001b[0;34m:\u001b[0m\u001b[0;34m\u001b[0m\u001b[0;34m\u001b[0m\u001b[0m\n\u001b[1;32m    857\u001b[0m         \u001b[0;32mif\u001b[0m \u001b[0mwarn\u001b[0m\u001b[0;34m:\u001b[0m\u001b[0;34m\u001b[0m\u001b[0;34m\u001b[0m\u001b[0m\n",
      "\u001b[0;32m~/.local/lib/python3.8/site-packages/numpy/core/overrides.py\u001b[0m in \u001b[0;36mravel\u001b[0;34m(*args, **kwargs)\u001b[0m\n",
      "\u001b[0;32m~/.local/lib/python3.8/site-packages/numpy/core/fromnumeric.py\u001b[0m in \u001b[0;36mravel\u001b[0;34m(a, order)\u001b[0m\n\u001b[1;32m   1854\u001b[0m \u001b[0;34m\u001b[0m\u001b[0m\n\u001b[1;32m   1855\u001b[0m     \"\"\"\n\u001b[0;32m-> 1856\u001b[0;31m     \u001b[0;32mif\u001b[0m \u001b[0misinstance\u001b[0m\u001b[0;34m(\u001b[0m\u001b[0ma\u001b[0m\u001b[0;34m,\u001b[0m \u001b[0mnp\u001b[0m\u001b[0;34m.\u001b[0m\u001b[0mmatrix\u001b[0m\u001b[0;34m)\u001b[0m\u001b[0;34m:\u001b[0m\u001b[0;34m\u001b[0m\u001b[0;34m\u001b[0m\u001b[0m\n\u001b[0m\u001b[1;32m   1857\u001b[0m         \u001b[0;32mreturn\u001b[0m \u001b[0masarray\u001b[0m\u001b[0;34m(\u001b[0m\u001b[0ma\u001b[0m\u001b[0;34m)\u001b[0m\u001b[0;34m.\u001b[0m\u001b[0mravel\u001b[0m\u001b[0;34m(\u001b[0m\u001b[0morder\u001b[0m\u001b[0;34m=\u001b[0m\u001b[0morder\u001b[0m\u001b[0;34m)\u001b[0m\u001b[0;34m\u001b[0m\u001b[0;34m\u001b[0m\u001b[0m\n\u001b[1;32m   1858\u001b[0m     \u001b[0;32melse\u001b[0m\u001b[0;34m:\u001b[0m\u001b[0;34m\u001b[0m\u001b[0;34m\u001b[0m\u001b[0m\n",
      "\u001b[0;31mAttributeError\u001b[0m: module 'numpy' has no attribute 'matrix'"
     ]
    }
   ],
   "source": [
    "le.fit(data.Methode)\n",
    "le.fit_transform(data.Methode)"
   ]
  },
  {
   "cell_type": "code",
   "execution_count": null,
   "id": "1ea1bdc3",
   "metadata": {},
   "outputs": [],
   "source": []
  }
 ],
 "metadata": {
  "kernelspec": {
   "display_name": "Python 3",
   "language": "python",
   "name": "python3"
  },
  "language_info": {
   "codemirror_mode": {
    "name": "ipython",
    "version": 3
   },
   "file_extension": ".py",
   "mimetype": "text/x-python",
   "name": "python",
   "nbconvert_exporter": "python",
   "pygments_lexer": "ipython3",
   "version": "3.8.8"
  }
 },
 "nbformat": 4,
 "nbformat_minor": 5
}
