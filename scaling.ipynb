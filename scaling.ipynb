{
 "cells": [
  {
   "cell_type": "markdown",
   "id": "scheduled-lodging",
   "metadata": {},
   "source": [
    "# Data Scaling"
   ]
  },
  {
   "cell_type": "markdown",
   "id": "ordered-sodium",
   "metadata": {},
   "source": [
    "### Why shoud we scale our data?"
   ]
  },
  {
   "cell_type": "markdown",
   "id": "solved-backing",
   "metadata": {},
   "source": [
    "Distance algorithms such as KNN, K-means, and SVM are most affected by feature space. This is because they use distances between data points to determine their similarity."
   ]
  },
  {
   "cell_type": "markdown",
   "id": "vocal-guidance",
   "metadata": {},
   "source": [
    "If two features have different scales, there is a possibility that the features with higher magnitude will be given higher weights. This affects the performance of the machine learning algorithm, and we obviously do not want our algorithm to be biased towards one feature."
   ]
  },
  {
   "cell_type": "markdown",
   "id": "cross-defensive",
   "metadata": {},
   "source": [
    "##### One Example"
   ]
  },
  {
   "cell_type": "markdown",
   "id": "virtual-ivory",
   "metadata": {},
   "source": [
    "<img src='img_scaling/beispiel.PNG' >"
   ]
  },
  {
   "cell_type": "markdown",
   "id": "verbal-valuable",
   "metadata": {},
   "source": [
    "##### Which algorithms are scale-variant or scale-invariant?"
   ]
  },
  {
   "cell_type": "markdown",
   "id": "beautiful-candy",
   "metadata": {},
   "source": [
    "There are families of algorithms that are scale invariant, such as the tree-based algorithms, where scaling is not required because they are not distance-based models.\n",
    "Thus, we make decisions, \"Is feature x_i >= some_val?\" Intuitively, we can see that it really doesn't matter what scale this feature has (centimeters, Fahrenheit, a standardized scale - it really doesn't matter).\n",
    "\n",
    "Some algorithms, such as Linear Discriminant Analysis (LDA) and Naive Bayes, weight features based on their range, so scaling does not affect these algorithms.\n",
    "\n",
    "There are other algorithms where scaling is necessary or helpful: \n",
    "\n",
    "These are distance algorithms such as KNN, K-means and SVM are most affected by the scale of features. This is because they use distances between data points to determine their similarity. Scaling helps us avoid bias towards the high value features. \n",
    "\n",
    "Neural networks also benefit from feature scaling.\n",
    "In general, features are scaled because it leads to faster convergence in gradient dependent algorithms. (It will be shown below)"
   ]
  },
  {
   "cell_type": "markdown",
   "id": "tender-sarah",
   "metadata": {},
   "source": [
    "### Standardization and Normalization"
   ]
  },
  {
   "cell_type": "markdown",
   "id": "stainless-highway",
   "metadata": {},
   "source": [
    "##### Standardization - Z-Score"
   ]
  },
  {
   "cell_type": "markdown",
   "id": "alien-hydrogen",
   "metadata": {},
   "source": [
    "The result of standardization (or Z-score normalization) is that the characteristics are rescaled to have the properties of a standard normal distribution with\n",
    "- μ=0 and\n",
    "- σ=1\n",
    "\n",
    "where μ is the mean (average) and σ is the standard deviation from the mean; the standard scores (also called z-scores) of the samples are calculated as follows:"
   ]
  },
  {
   "cell_type": "markdown",
   "id": "comic-enterprise",
   "metadata": {},
   "source": [
    "<img src='img_scaling/standardisierung.PNG'>"
   ]
  },
  {
   "cell_type": "markdown",
   "id": "studied-appointment",
   "metadata": {},
   "source": [
    "Standardizing features so that they are centered around 0 with a standard deviation of 1 is not only important when we compare measurements with different units, but is also a general requirement for many machine learning algorithms. Intuitively, we can think of gradient descent as a prominent example (an optimization algorithm often used in logistic regression, SVMs, perceptrons, neural networks, etc.); with features that are on different scales, certain weights can be updated faster than others because the feature values xj play a role in the weight updates"
   ]
  },
  {
   "cell_type": "markdown",
   "id": "occupied-washington",
   "metadata": {},
   "source": [
    "We should also consider whether we want to \"standardize\" or \"normalize\" (here: scale to the range [0, 1]) our data. Some algorithms assume that our data is centered at 0. For example, if we initialize the weights of a small multilayer perceptron with tanh activation units centered at 0 or small random values centered around 0, we want to update the model weights \"uniformly\". As a rule of thumb, I would say: when in doubt, just standardize the data, it can't hurt."
   ]
  },
  {
   "cell_type": "markdown",
   "id": "perfect-heaven",
   "metadata": {},
   "source": [
    "### Normalization - Min-Max scalling"
   ]
  },
  {
   "cell_type": "markdown",
   "id": "rocky-washer",
   "metadata": {},
   "source": [
    "An alternative approach to Z-score normalization (or standardization) is so-called min-max scaling (often simply called \"normalization\" - a common cause of ambiguity).\n",
    "In this approach, data are scaled to a fixed range - usually 0 to 1.\n",
    "The cost of this limited range - as opposed to normalization - is that we end up with smaller standard deviations, which can suppress the effect of outliers.\n",
    "\n",
    "Min-max scaling is typically performed using the following equation:"
   ]
  },
  {
   "cell_type": "markdown",
   "id": "aggregate-owner",
   "metadata": {},
   "source": [
    "<img src='img_scaling/normalisierung.PNG'>"
   ]
  },
  {
   "cell_type": "markdown",
   "id": "persistent-karen",
   "metadata": {},
   "source": [
    "### Z-score Standardizuation or Min-Max Normalization?"
   ]
  },
  {
   "cell_type": "markdown",
   "id": "intelligent-bradford",
   "metadata": {},
   "source": [
    "\"Normalization or Min-Max Scaling?\" - There is no clear answer to this question: it really depends on the application.\n",
    "\n",
    "For example, in clustering analyses, standardization may be particularly important to compare similarities between features based on certain distance measures. Another prominent example is principal component analysis, where we usually prefer standardization to min-max scaling because we are interested in the components that maximize variance (depending on the question and whether PCA calculates components using the correlation matrix rather than the covariance matrix; but more on PCA in my previous article).\n",
    "\n",
    "This is not to say that min-max scaling is not useful at all! A popular application is image processing, where pixel intensities need to be normalized to fit a certain range (e.g., 0 to 255 for the RGB color range). Also, typical neural network algorithms require data that is on a scale of 0 to 1."
   ]
  },
  {
   "cell_type": "markdown",
   "id": "metropolitan-elder",
   "metadata": {},
   "source": [
    "### Standardize and normalize - how it can be done with scikit-learn"
   ]
  },
  {
   "cell_type": "markdown",
   "id": "sacred-transition",
   "metadata": {},
   "source": [
    "Of course, we could use NumPy's vectorization capabilities to calculate the z-scores for standardization and normalize the data using the equations mentioned in the previous sections. However, there is an even more convenient approach that uses the preprocessing module from one of Python's open-source machine learning libraries, scikit-learn."
   ]
  },
  {
   "cell_type": "markdown",
   "id": "radical-convert",
   "metadata": {},
   "source": [
    "### Example on wine dataset"
   ]
  },
  {
   "cell_type": "markdown",
   "id": "involved-tenant",
   "metadata": {},
   "source": [
    "For the following examples and discussion, we will look at the free \"Wine\" dataset deposited on the UCI machine learning repository\n",
    "(http://archive.ics.uci.edu/ml/datasets/Wine)."
   ]
  },
  {
   "cell_type": "markdown",
   "id": "collectible-mainstream",
   "metadata": {},
   "source": [
    "The wine dataset consists of 3 different classes, with each row corresponding to a particular wine sample.\n",
    "\n",
    "The class labels (1, 2, 3) are listed in the first column, and columns 2-14 correspond to 13 different attributes (features):\n",
    "\n",
    "1) Alcohol (percent/volume).\n",
    "\n",
    "2) Malic acid (g/l))"
   ]
  },
  {
   "cell_type": "code",
   "execution_count": 1,
   "id": "forced-inquiry",
   "metadata": {},
   "outputs": [
    {
     "data": {
      "text/html": [
       "<div>\n",
       "<style scoped>\n",
       "    .dataframe tbody tr th:only-of-type {\n",
       "        vertical-align: middle;\n",
       "    }\n",
       "\n",
       "    .dataframe tbody tr th {\n",
       "        vertical-align: top;\n",
       "    }\n",
       "\n",
       "    .dataframe thead th {\n",
       "        text-align: right;\n",
       "    }\n",
       "</style>\n",
       "<table border=\"1\" class=\"dataframe\">\n",
       "  <thead>\n",
       "    <tr style=\"text-align: right;\">\n",
       "      <th></th>\n",
       "      <th>Class label</th>\n",
       "      <th>Alcohol</th>\n",
       "      <th>Malic acid</th>\n",
       "    </tr>\n",
       "  </thead>\n",
       "  <tbody>\n",
       "    <tr>\n",
       "      <th>0</th>\n",
       "      <td>1</td>\n",
       "      <td>14.23</td>\n",
       "      <td>1.71</td>\n",
       "    </tr>\n",
       "    <tr>\n",
       "      <th>1</th>\n",
       "      <td>1</td>\n",
       "      <td>13.20</td>\n",
       "      <td>1.78</td>\n",
       "    </tr>\n",
       "    <tr>\n",
       "      <th>2</th>\n",
       "      <td>1</td>\n",
       "      <td>13.16</td>\n",
       "      <td>2.36</td>\n",
       "    </tr>\n",
       "    <tr>\n",
       "      <th>3</th>\n",
       "      <td>1</td>\n",
       "      <td>14.37</td>\n",
       "      <td>1.95</td>\n",
       "    </tr>\n",
       "    <tr>\n",
       "      <th>4</th>\n",
       "      <td>1</td>\n",
       "      <td>13.24</td>\n",
       "      <td>2.59</td>\n",
       "    </tr>\n",
       "  </tbody>\n",
       "</table>\n",
       "</div>"
      ],
      "text/plain": [
       "   Class label  Alcohol  Malic acid\n",
       "0            1    14.23        1.71\n",
       "1            1    13.20        1.78\n",
       "2            1    13.16        2.36\n",
       "3            1    14.37        1.95\n",
       "4            1    13.24        2.59"
      ]
     },
     "execution_count": 1,
     "metadata": {},
     "output_type": "execute_result"
    }
   ],
   "source": [
    "#load data\n",
    "\n",
    "import pandas as pd\n",
    "import numpy as np\n",
    "\n",
    "df = pd.io.parsers.read_csv(\n",
    "    'https://raw.githubusercontent.com/rasbt/pattern_classification/master/data/wine_data.csv',\n",
    "     header=None,\n",
    "     usecols=[0,1,2]\n",
    "    )\n",
    "\n",
    "df.columns=['Class label', 'Alcohol', 'Malic acid']\n",
    "\n",
    "df.head()"
   ]
  },
  {
   "cell_type": "markdown",
   "id": "minute-church",
   "metadata": {},
   "source": [
    "As can be seen in the table above, the characteristics alcohol (percent/volume) and malic acid (g/l) are measured on different scales, so characteristic scaling is necessary before comparing or combining these data."
   ]
  },
  {
   "cell_type": "markdown",
   "id": "changing-projection",
   "metadata": {},
   "source": [
    "##### Standardization"
   ]
  },
  {
   "cell_type": "code",
   "execution_count": 4,
   "id": "seventh-wallet",
   "metadata": {},
   "outputs": [],
   "source": [
    "from sklearn.preprocessing import StandardScaler"
   ]
  },
  {
   "cell_type": "code",
   "execution_count": 5,
   "id": "latter-expense",
   "metadata": {
    "scrolled": true
   },
   "outputs": [],
   "source": [
    "std_scale = StandardScaler().fit(df[['Alcohol', 'Malic acid']])\n",
    "df_std = std_scale.transform(df[['Alcohol', 'Malic acid']])"
   ]
  },
  {
   "cell_type": "code",
   "execution_count": 6,
   "id": "representative-companion",
   "metadata": {},
   "outputs": [
    {
     "data": {
      "text/html": [
       "<div>\n",
       "<style scoped>\n",
       "    .dataframe tbody tr th:only-of-type {\n",
       "        vertical-align: middle;\n",
       "    }\n",
       "\n",
       "    .dataframe tbody tr th {\n",
       "        vertical-align: top;\n",
       "    }\n",
       "\n",
       "    .dataframe thead th {\n",
       "        text-align: right;\n",
       "    }\n",
       "</style>\n",
       "<table border=\"1\" class=\"dataframe\">\n",
       "  <thead>\n",
       "    <tr style=\"text-align: right;\">\n",
       "      <th></th>\n",
       "      <th>0</th>\n",
       "      <th>1</th>\n",
       "    </tr>\n",
       "  </thead>\n",
       "  <tbody>\n",
       "    <tr>\n",
       "      <th>0</th>\n",
       "      <td>1.518613</td>\n",
       "      <td>-0.562250</td>\n",
       "    </tr>\n",
       "    <tr>\n",
       "      <th>1</th>\n",
       "      <td>0.246290</td>\n",
       "      <td>-0.499413</td>\n",
       "    </tr>\n",
       "    <tr>\n",
       "      <th>2</th>\n",
       "      <td>0.196879</td>\n",
       "      <td>0.021231</td>\n",
       "    </tr>\n",
       "    <tr>\n",
       "      <th>3</th>\n",
       "      <td>1.691550</td>\n",
       "      <td>-0.346811</td>\n",
       "    </tr>\n",
       "    <tr>\n",
       "      <th>4</th>\n",
       "      <td>0.295700</td>\n",
       "      <td>0.227694</td>\n",
       "    </tr>\n",
       "  </tbody>\n",
       "</table>\n",
       "</div>"
      ],
      "text/plain": [
       "          0         1\n",
       "0  1.518613 -0.562250\n",
       "1  0.246290 -0.499413\n",
       "2  0.196879  0.021231\n",
       "3  1.691550 -0.346811\n",
       "4  0.295700  0.227694"
      ]
     },
     "execution_count": 6,
     "metadata": {},
     "output_type": "execute_result"
    }
   ],
   "source": [
    "pd.DataFrame(df_std).head()"
   ]
  },
  {
   "cell_type": "markdown",
   "id": "continent-mills",
   "metadata": {},
   "source": [
    "Check Mean and Standard Deviation"
   ]
  },
  {
   "cell_type": "code",
   "execution_count": 8,
   "id": "every-baking",
   "metadata": {},
   "outputs": [
    {
     "name": "stdout",
     "output_type": "stream",
     "text": [
      "Mean after standardization:\n",
      "Alcohol=-0.00, Malic acid=-0.00\n",
      "\n",
      "Standard deviation after standardization:\n",
      "Alcohol=1.00, Malic acid=1.00\n"
     ]
    }
   ],
   "source": [
    "print('Mean after standardization:\\nAlcohol={:.2f}, Malic acid={:.2f}'\n",
    "      .format(df_std[:,0].mean(), df_std[:,1].mean()))\n",
    "print('\\nStandard deviation after standardization:\\nAlcohol={:.2f}, Malic acid={:.2f}'\n",
    "      .format(df_std[:,0].std(), df_std[:,1].std()))\n"
   ]
  },
  {
   "cell_type": "markdown",
   "id": "excess-midnight",
   "metadata": {},
   "source": [
    "##### Normalisierung"
   ]
  },
  {
   "cell_type": "code",
   "execution_count": 9,
   "id": "healthy-radius",
   "metadata": {},
   "outputs": [],
   "source": [
    "from sklearn.preprocessing import MinMaxScaler"
   ]
  },
  {
   "cell_type": "code",
   "execution_count": 10,
   "id": "described-maintenance",
   "metadata": {},
   "outputs": [],
   "source": [
    "minmax_scale = MinMaxScaler().fit(df[['Alcohol', 'Malic acid']])\n",
    "df_minmax = minmax_scale.transform(df[['Alcohol', 'Malic acid']])"
   ]
  },
  {
   "cell_type": "code",
   "execution_count": 11,
   "id": "affecting-culture",
   "metadata": {},
   "outputs": [
    {
     "data": {
      "text/html": [
       "<div>\n",
       "<style scoped>\n",
       "    .dataframe tbody tr th:only-of-type {\n",
       "        vertical-align: middle;\n",
       "    }\n",
       "\n",
       "    .dataframe tbody tr th {\n",
       "        vertical-align: top;\n",
       "    }\n",
       "\n",
       "    .dataframe thead th {\n",
       "        text-align: right;\n",
       "    }\n",
       "</style>\n",
       "<table border=\"1\" class=\"dataframe\">\n",
       "  <thead>\n",
       "    <tr style=\"text-align: right;\">\n",
       "      <th></th>\n",
       "      <th>0</th>\n",
       "      <th>1</th>\n",
       "    </tr>\n",
       "  </thead>\n",
       "  <tbody>\n",
       "    <tr>\n",
       "      <th>0</th>\n",
       "      <td>0.842105</td>\n",
       "      <td>0.191700</td>\n",
       "    </tr>\n",
       "    <tr>\n",
       "      <th>1</th>\n",
       "      <td>0.571053</td>\n",
       "      <td>0.205534</td>\n",
       "    </tr>\n",
       "    <tr>\n",
       "      <th>2</th>\n",
       "      <td>0.560526</td>\n",
       "      <td>0.320158</td>\n",
       "    </tr>\n",
       "    <tr>\n",
       "      <th>3</th>\n",
       "      <td>0.878947</td>\n",
       "      <td>0.239130</td>\n",
       "    </tr>\n",
       "    <tr>\n",
       "      <th>4</th>\n",
       "      <td>0.581579</td>\n",
       "      <td>0.365613</td>\n",
       "    </tr>\n",
       "  </tbody>\n",
       "</table>\n",
       "</div>"
      ],
      "text/plain": [
       "          0         1\n",
       "0  0.842105  0.191700\n",
       "1  0.571053  0.205534\n",
       "2  0.560526  0.320158\n",
       "3  0.878947  0.239130\n",
       "4  0.581579  0.365613"
      ]
     },
     "execution_count": 11,
     "metadata": {},
     "output_type": "execute_result"
    }
   ],
   "source": [
    "pd.DataFrame(df_minmax).head()"
   ]
  },
  {
   "cell_type": "markdown",
   "id": "aboriginal-viewer",
   "metadata": {},
   "source": [
    "Check minimum and maximum value"
   ]
  },
  {
   "cell_type": "code",
   "execution_count": 12,
   "id": "armed-thirty",
   "metadata": {},
   "outputs": [
    {
     "name": "stdout",
     "output_type": "stream",
     "text": [
      "Min-value after min-max scaling:\n",
      "Alcohol=0.00, Malic acid=0.00\n",
      "\n",
      "Max-value after min-max scaling:\n",
      "Alcohol=1.00, Malic acid=1.00\n"
     ]
    }
   ],
   "source": [
    "print('Min-value after min-max scaling:\\nAlcohol={:.2f}, Malic acid={:.2f}'\n",
    "      .format(df_minmax[:,0].min(), df_minmax[:,1].min()))\n",
    "print('\\nMax-value after min-max scaling:\\nAlcohol={:.2f}, Malic acid={:.2f}'\n",
    "      .format(df_minmax[:,0].max(), df_minmax[:,1].max()))\n"
   ]
  },
  {
   "cell_type": "markdown",
   "id": "circular-grant",
   "metadata": {},
   "source": [
    "Plot the outcome"
   ]
  },
  {
   "cell_type": "code",
   "execution_count": 13,
   "id": "diverse-humanitarian",
   "metadata": {},
   "outputs": [
    {
     "data": {
      "image/png": "[encoded data removed]",
      "text/plain": [
       "<Figure size 576x432 with 1 Axes>"
      ]
     },
     "metadata": {
      "needs_background": "light"
     },
     "output_type": "display_data"
    }
   ],
   "source": [
    "from matplotlib import pyplot as plt\n",
    "\n",
    "def plot():\n",
    "    plt.figure(figsize=(8,6))\n",
    "\n",
    "    plt.scatter(df['Alcohol'], df['Malic acid'],\n",
    "            color='green', label='Nicht transformiert', alpha=0.5)\n",
    "\n",
    "    plt.scatter(df_std[:,0], df_std[:,1], color='red',\n",
    "            label='Standardisierung - ZScore', alpha=0.3)\n",
    "\n",
    "    plt.scatter(df_minmax[:,0], df_minmax[:,1],\n",
    "            color='blue', label='Normalisierung - MinMax', alpha=0.3)\n",
    "\n",
    "    plt.title('Alcohol and Malic Acid content of the wine dataset')\n",
    "    plt.xlabel('Alcohol')\n",
    "    plt.ylabel('Malic Acid')\n",
    "    plt.legend(loc='upper left')\n",
    "    plt.grid()\n",
    "\n",
    "    plt.tight_layout()\n",
    "\n",
    "plot()\n",
    "plt.show()\n"
   ]
  },
  {
   "cell_type": "markdown",
   "id": "prime-cyprus",
   "metadata": {},
   "source": [
    "The above diagram contains the wine data points on all three different scales: the input scale where the alcohol content was measured in volume percent (green), the standardized characteristics (red) and the normalized characteristics (blue). In the following plot we will zoom into the three different axis scales"
   ]
  },
  {
   "cell_type": "code",
   "execution_count": 14,
   "id": "whole-communist",
   "metadata": {},
   "outputs": [
    {
     "data": {
      "image/png": "[encoded data removed]",
      "text/plain": [
       "<Figure size 1152x360 with 3 Axes>"
      ]
     },
     "metadata": {
      "needs_background": "light"
     },
     "output_type": "display_data"
    }
   ],
   "source": [
    "fig, ax = plt.subplots(1,3, figsize=(16,5))\n",
    "\n",
    "for a,d,l in zip(range(len(ax)),\n",
    "               (df[['Alcohol', 'Malic acid']].values, df_std, df_minmax),\n",
    "               ('Untrn',\n",
    "                'Standardisierung- ZScore',\n",
    "                'Normalisierung - MinMax')\n",
    "                ):\n",
    "    for i,c in zip(range(1,4), ('red', 'blue', 'green')):\n",
    "        ax[a].scatter(d[df['Class label'].values == i, 0],\n",
    "                  d[df['Class label'].values == i, 1],\n",
    "                  alpha=0.5,\n",
    "                  color=c,\n",
    "                  label='Class %s' %i\n",
    "                  )\n",
    "    ax[a].set_title(l)\n",
    "    ax[a].set_xlabel('Alcohol')\n",
    "    ax[a].set_ylabel('Malic Acid')\n",
    "    ax[a].legend(loc='upper left')\n",
    "    ax[a].grid()\n",
    "\n",
    "plt.tight_layout()\n",
    "\n",
    "plt.show()"
   ]
  },
  {
   "cell_type": "markdown",
   "id": "legitimate-cambridge",
   "metadata": {},
   "source": [
    "The arrangement of data points to each other or different classes to each other does not change."
   ]
  },
  {
   "cell_type": "markdown",
   "id": "casual-blues",
   "metadata": {},
   "source": [
    "### Use Scaling"
   ]
  },
  {
   "cell_type": "markdown",
   "id": "received-employee",
   "metadata": {},
   "source": [
    "Wir werden wieder eine Visualisierungsfunktion nutzen."
   ]
  },
  {
   "cell_type": "code",
   "execution_count": 15,
   "id": "catholic-carpet",
   "metadata": {},
   "outputs": [],
   "source": [
    "from matplotlib.colors import ListedColormap\n",
    "\n",
    "def plot_ergebnis(X_train, y_train, X_test, clf):\n",
    "    X = np.vstack((X_train, X_test))\n",
    "    y = np.hstack((y_train, y_test))\n",
    "    \n",
    "    plot_step = 0.02\n",
    "    x_min, x_max = X[:,0].min() - 1, X[:,0].max() + 1\n",
    "    y_min, y_max = X[:,1].min() - 1, X[:,1].max() + 1\n",
    "    xx, yy = np.meshgrid(\n",
    "        np.arange(x_min, x_max, plot_step), np.arange(y_min, y_max, plot_step)\n",
    "    )\n",
    "    \n",
    "    #Plot Entscheidungsfunktion und Datenpunkte + Vorhersagen\n",
    "    Z = clf.predict(np.c_[xx.ravel(), yy.ravel()])\n",
    "    Z = Z.reshape(xx.shape)\n",
    "    plt.contourf(xx, yy, Z, alpha=0.25, cmap=ListedColormap(['red', 'blue', 'green']))\n",
    "    plt.scatter(X[:,0],  X[:,1], alpha=0.25, c=y, cmap=ListedColormap(['red', 'blue', 'green']))\n",
    "    y_pred=clf.predict(X_test)\n",
    "    plt.scatter(X_test[:,0], X_test[:,1], c=y_pred, marker='x', s=10, cmap=ListedColormap(['red', 'blue', 'green']))"
   ]
  },
  {
   "cell_type": "code",
   "execution_count": 16,
   "id": "damaged-captain",
   "metadata": {},
   "outputs": [],
   "source": [
    "from sklearn.model_selection import train_test_split\n",
    "\n",
    "X_wine = df.values[:,1:]\n",
    "y_wine = df.values[:,0]\n",
    "\n",
    "X_train, X_test, y_train, y_test = train_test_split(X_wine, y_wine, test_size=0.30, random_state=42)\n"
   ]
  },
  {
   "cell_type": "code",
   "execution_count": 17,
   "id": "flying-collapse",
   "metadata": {},
   "outputs": [],
   "source": [
    "std_scale = StandardScaler().fit(X_train)\n",
    "X_train_std = std_scale.transform(X_train)\n",
    "X_test_std = std_scale.transform(X_test)"
   ]
  },
  {
   "cell_type": "code",
   "execution_count": 18,
   "id": "framed-genesis",
   "metadata": {},
   "outputs": [],
   "source": [
    "minmax_scale = MinMaxScaler().fit(X_train)\n",
    "X_train_minmax = minmax_scale.transform(X_train)\n",
    "X_test_minmax = minmax_scale.transform(X_test)"
   ]
  },
  {
   "cell_type": "code",
   "execution_count": 19,
   "id": "stock-point",
   "metadata": {},
   "outputs": [],
   "source": [
    "from sklearn.metrics import accuracy_score\n",
    "\n",
    "def evaluate_ergebnis(clf, X_test, y_test): \n",
    "    y_pred = clf.predict(X_test)\n",
    "    print('accuracy %f' % accuracy_score(y_pred, y_test))"
   ]
  },
  {
   "cell_type": "markdown",
   "id": "sapphire-party",
   "metadata": {},
   "source": [
    "##### Decision Tree"
   ]
  },
  {
   "cell_type": "code",
   "execution_count": 20,
   "id": "collaborative-clinic",
   "metadata": {},
   "outputs": [],
   "source": [
    "from sklearn.tree import DecisionTreeClassifier, plot_tree"
   ]
  },
  {
   "cell_type": "code",
   "execution_count": 21,
   "id": "smoking-toronto",
   "metadata": {},
   "outputs": [
    {
     "name": "stdout",
     "output_type": "stream",
     "text": [
      "accuracy 0.777778\n"
     ]
    }
   ],
   "source": [
    "# on non-standardized data\n",
    "dt = DecisionTreeClassifier(criterion='entropy', max_depth=2)\n",
    "dt.fit(X_train, y_train)\n",
    "\n",
    "evaluate_ergebnis(dt, X_test, y_test)"
   ]
  },
  {
   "cell_type": "code",
   "execution_count": 22,
   "id": "creative-fitting",
   "metadata": {},
   "outputs": [
    {
     "data": {
      "image/png": "[encoded data removed]",
      "text/plain": [
       "<Figure size 432x288 with 1 Axes>"
      ]
     },
     "metadata": {
      "needs_background": "light"
     },
     "output_type": "display_data"
    }
   ],
   "source": [
    "plot_ergebnis(X_train, y_train, X_test, dt)"
   ]
  },
  {
   "cell_type": "code",
   "execution_count": 23,
   "id": "entitled-extreme",
   "metadata": {},
   "outputs": [
    {
     "name": "stdout",
     "output_type": "stream",
     "text": [
      "accuracy 0.777778\n"
     ]
    }
   ],
   "source": [
    "# on non-standardized data\n",
    "dt_std = DecisionTreeClassifier(criterion='entropy', max_depth=2)\n",
    "dt_std.fit(X_train_std, y_train)\n",
    "\n",
    "evaluate_ergebnis(dt_std, X_test_std, y_test)"
   ]
  },
  {
   "cell_type": "code",
   "execution_count": 24,
   "id": "accessible-subscription",
   "metadata": {},
   "outputs": [
    {
     "name": "stdout",
     "output_type": "stream",
     "text": [
      "accuracy 0.777778\n"
     ]
    }
   ],
   "source": [
    "# on normalized data\n",
    "dt_minmax = DecisionTreeClassifier(criterion='entropy', max_depth=2)\n",
    "dt_minmax.fit(X_train_minmax, y_train)\n",
    "\n",
    "evaluate_ergebnis(dt_minmax, X_test_minmax, y_test)"
   ]
  },
  {
   "cell_type": "markdown",
   "id": "formal-software",
   "metadata": {},
   "source": [
    "### Exercise"
   ]
  },
  {
   "cell_type": "markdown",
   "id": "realistic-instruction",
   "metadata": {},
   "source": [
    "Also train a support vector machine with\n",
    "- unscaled \n",
    "- standardize \n",
    "- normalized \n",
    "data"
   ]
  },
  {
   "cell_type": "markdown",
   "id": "statutory-hobby",
   "metadata": {},
   "source": [
    "##### Support Vector Machine"
   ]
  },
  {
   "cell_type": "code",
   "execution_count": 2,
   "id": "timely-elements",
   "metadata": {},
   "outputs": [],
   "source": [
    "from sklearn.svm import SVC"
   ]
  },
  {
   "cell_type": "code",
   "execution_count": null,
   "id": "naughty-writer",
   "metadata": {},
   "outputs": [],
   "source": [
    "#code here\n",
    "\n",
    "def ML_scale_compare(dataframe, scaling_model, ML_model):\n",
    "    df\n",
    "    "
   ]
  },
  {
   "cell_type": "code",
   "execution_count": 4,
   "id": "3e580339",
   "metadata": {},
   "outputs": [],
   "source": []
  },
  {
   "cell_type": "code",
   "execution_count": 9,
   "id": "710f9c14",
   "metadata": {},
   "outputs": [
    {
     "data": {
      "text/html": [
       "<div>\n",
       "<style scoped>\n",
       "    .dataframe tbody tr th:only-of-type {\n",
       "        vertical-align: middle;\n",
       "    }\n",
       "\n",
       "    .dataframe tbody tr th {\n",
       "        vertical-align: top;\n",
       "    }\n",
       "\n",
       "    .dataframe thead th {\n",
       "        text-align: right;\n",
       "    }\n",
       "</style>\n",
       "<table border=\"1\" class=\"dataframe\">\n",
       "  <thead>\n",
       "    <tr style=\"text-align: right;\">\n",
       "      <th></th>\n",
       "      <th>Class label</th>\n",
       "      <th>Alcohol</th>\n",
       "      <th>Malic acid</th>\n",
       "    </tr>\n",
       "  </thead>\n",
       "  <tbody>\n",
       "    <tr>\n",
       "      <th>0</th>\n",
       "      <td>1</td>\n",
       "      <td>14.23</td>\n",
       "      <td>1.71</td>\n",
       "    </tr>\n",
       "    <tr>\n",
       "      <th>1</th>\n",
       "      <td>1</td>\n",
       "      <td>13.20</td>\n",
       "      <td>1.78</td>\n",
       "    </tr>\n",
       "    <tr>\n",
       "      <th>2</th>\n",
       "      <td>1</td>\n",
       "      <td>13.16</td>\n",
       "      <td>2.36</td>\n",
       "    </tr>\n",
       "    <tr>\n",
       "      <th>3</th>\n",
       "      <td>1</td>\n",
       "      <td>14.37</td>\n",
       "      <td>1.95</td>\n",
       "    </tr>\n",
       "    <tr>\n",
       "      <th>4</th>\n",
       "      <td>1</td>\n",
       "      <td>13.24</td>\n",
       "      <td>2.59</td>\n",
       "    </tr>\n",
       "    <tr>\n",
       "      <th>...</th>\n",
       "      <td>...</td>\n",
       "      <td>...</td>\n",
       "      <td>...</td>\n",
       "    </tr>\n",
       "    <tr>\n",
       "      <th>173</th>\n",
       "      <td>3</td>\n",
       "      <td>13.71</td>\n",
       "      <td>5.65</td>\n",
       "    </tr>\n",
       "    <tr>\n",
       "      <th>174</th>\n",
       "      <td>3</td>\n",
       "      <td>13.40</td>\n",
       "      <td>3.91</td>\n",
       "    </tr>\n",
       "    <tr>\n",
       "      <th>175</th>\n",
       "      <td>3</td>\n",
       "      <td>13.27</td>\n",
       "      <td>4.28</td>\n",
       "    </tr>\n",
       "    <tr>\n",
       "      <th>176</th>\n",
       "      <td>3</td>\n",
       "      <td>13.17</td>\n",
       "      <td>2.59</td>\n",
       "    </tr>\n",
       "    <tr>\n",
       "      <th>177</th>\n",
       "      <td>3</td>\n",
       "      <td>14.13</td>\n",
       "      <td>4.10</td>\n",
       "    </tr>\n",
       "  </tbody>\n",
       "</table>\n",
       "<p>178 rows × 3 columns</p>\n",
       "</div>"
      ],
      "text/plain": [
       "     Class label  Alcohol  Malic acid\n",
       "0              1    14.23        1.71\n",
       "1              1    13.20        1.78\n",
       "2              1    13.16        2.36\n",
       "3              1    14.37        1.95\n",
       "4              1    13.24        2.59\n",
       "..           ...      ...         ...\n",
       "173            3    13.71        5.65\n",
       "174            3    13.40        3.91\n",
       "175            3    13.27        4.28\n",
       "176            3    13.17        2.59\n",
       "177            3    14.13        4.10\n",
       "\n",
       "[178 rows x 3 columns]"
      ]
     },
     "execution_count": 9,
     "metadata": {},
     "output_type": "execute_result"
    }
   ],
   "source": [
    "df"
   ]
  },
  {
   "cell_type": "code",
   "execution_count": 11,
   "id": "a53e694e",
   "metadata": {},
   "outputs": [
    {
     "name": "stdout",
     "output_type": "stream",
     "text": [
      "accuracy 0.740741\n"
     ]
    }
   ],
   "source": [
    "from sklearn.model_selection import train_test_split\n",
    "\n",
    "X_wine = df.values[:,1:]\n",
    "y_wine = df.values[:,0]\n",
    "\n",
    "X_train, X_test, y_train, y_test = train_test_split(X_wine, y_wine, test_size=0.30, random_state=42)\n",
    "\n",
    "from sklearn.preprocessing import StandardScaler\n",
    "\n",
    "std_scale = StandardScaler().fit(X_train)\n",
    "X_train = std_scale.transform(X_train)\n",
    "X_test = std_scale.transform(X_test)\n",
    "\n",
    "from sklearn.svm import SVC\n",
    "model = SVC(kernel='linear')\n",
    "model.fit(X_train, y_train)\n",
    "\n",
    "from sklearn.metrics import accuracy_score\n",
    "\n",
    "def evaluate_ergebnis(clf, X_test, y_test): \n",
    "    y_pred = clf.predict(X_test)\n",
    "    print('accuracy %f' % accuracy_score(y_pred, y_test))\n",
    "    \n",
    "evaluate_ergebnis(model, X_test, y_test)"
   ]
  },
  {
   "cell_type": "code",
   "execution_count": 23,
   "id": "39513537",
   "metadata": {},
   "outputs": [],
   "source": [
    "def ML_scale_printacc(dataframe, scaling_model, ML_model):\n",
    "    from sklearn.model_selection import train_test_split\n",
    "\n",
    "    X_wine = dataframe.values[:,1:]\n",
    "    y_wine = dataframe.values[:,0]\n",
    "\n",
    "    X_train, X_test, y_train, y_test = train_test_split(X_wine, y_wine, test_size=0.30, random_state=42)\n",
    "\n",
    "\n",
    "    scaling_model.fit(X_train)\n",
    "    X_train = scaling_model.transform(X_train)\n",
    "    X_test = scaling_model.transform(X_test)\n",
    "\n",
    "    ML_model.fit(X_train, y_train)\n",
    "\n",
    "    from sklearn.metrics import accuracy_score\n",
    "\n",
    "    def evaluate_ergebnis(clf, X_test, y_test): \n",
    "        y_pred = clf.predict(X_test)\n",
    "        print('accuracy %f' % accuracy_score(y_pred, y_test))\n",
    "        \n",
    "    evaluate_ergebnis(ML_model, X_test, y_test)\n",
    "\n",
    "    # from matplotlib.colors import ListedColormap\n",
    "\n",
    "    # def plot_ergebnis(X_train, y_train, X_test, ML_model):\n",
    "    #     X = np.vstack((X_train, X_test))\n",
    "    #     y = np.hstack((y_train, y_test))\n",
    "        \n",
    "    #     plot_step = 0.02\n",
    "    #     x_min, x_max = X[:,0].min() - 1, X[:,0].max() + 1\n",
    "    #     y_min, y_max = X[:,1].min() - 1, X[:,1].max() + 1\n",
    "    #     xx, yy = np.meshgrid(\n",
    "    #         np.arange(x_min, x_max, plot_step), np.arange(y_min, y_max, plot_step)\n",
    "    #     )\n",
    "        \n",
    "        #Plot Entscheidungsfunktion und Datenpunkte + Vorhersagen\n",
    "        # Z = clf.predict(np.c_[xx.ravel(), yy.ravel()])\n",
    "        # Z = Z.reshape(xx.shape)\n",
    "        # plt.contourf(xx, yy, Z, alpha=0.25, cmap=ListedColormap(['red', 'blue', 'green']))\n",
    "        # plt.scatter(X[:,0],  X[:,1], alpha=0.25, c=y, cmap=ListedColormap(['red', 'blue', 'green']))\n",
    "        # y_pred=clf.predict(X_test)\n",
    "        # plt.scatter(X_test[:,0], X_test[:,1], c=y_pred, marker='x', s=10, cmap=ListedColormap(['red', 'blue', 'green']))\n",
    "\n"
   ]
  },
  {
   "cell_type": "code",
   "execution_count": 24,
   "id": "f963a9d0",
   "metadata": {},
   "outputs": [
    {
     "name": "stdout",
     "output_type": "stream",
     "text": [
      "accuracy 0.814815\n"
     ]
    }
   ],
   "source": [
    "ML_scale_printacc(df, StandardScaler(), SVC())"
   ]
  },
  {
   "cell_type": "markdown",
   "id": "understanding-reward",
   "metadata": {},
   "source": [
    "##### Sources"
   ]
  },
  {
   "cell_type": "markdown",
   "id": "constant-toronto",
   "metadata": {},
   "source": [
    "https://sebastianraschka.com/Articles/2014_about_feature_scaling.html"
   ]
  },
  {
   "cell_type": "markdown",
   "id": "objective-violation",
   "metadata": {},
   "source": [
    "https://medium.datadriveninvestor.com/feature-scaling-why-what-where-how-683f61812f4c"
   ]
  },
  {
   "cell_type": "markdown",
   "id": "bearing-editing",
   "metadata": {},
   "source": [
    "https://www.analyticsvidhya.com/blog/2020/04/feature-scaling-machine-learning-normalization-standardization/"
   ]
  },
  {
   "cell_type": "code",
   "execution_count": 2,
   "id": "engaged-universal",
   "metadata": {},
   "outputs": [
    {
     "data": {
      "text/html": [
       "<div>\n",
       "<style scoped>\n",
       "    .dataframe tbody tr th:only-of-type {\n",
       "        vertical-align: middle;\n",
       "    }\n",
       "\n",
       "    .dataframe tbody tr th {\n",
       "        vertical-align: top;\n",
       "    }\n",
       "\n",
       "    .dataframe thead th {\n",
       "        text-align: right;\n",
       "    }\n",
       "</style>\n",
       "<table border=\"1\" class=\"dataframe\">\n",
       "  <thead>\n",
       "    <tr style=\"text-align: right;\">\n",
       "      <th></th>\n",
       "      <th>Class label</th>\n",
       "      <th>Alcohol</th>\n",
       "      <th>Malic acid</th>\n",
       "    </tr>\n",
       "  </thead>\n",
       "  <tbody>\n",
       "    <tr>\n",
       "      <th>0</th>\n",
       "      <td>1</td>\n",
       "      <td>14.23</td>\n",
       "      <td>1.71</td>\n",
       "    </tr>\n",
       "    <tr>\n",
       "      <th>1</th>\n",
       "      <td>1</td>\n",
       "      <td>13.20</td>\n",
       "      <td>1.78</td>\n",
       "    </tr>\n",
       "    <tr>\n",
       "      <th>2</th>\n",
       "      <td>1</td>\n",
       "      <td>13.16</td>\n",
       "      <td>2.36</td>\n",
       "    </tr>\n",
       "    <tr>\n",
       "      <th>3</th>\n",
       "      <td>1</td>\n",
       "      <td>14.37</td>\n",
       "      <td>1.95</td>\n",
       "    </tr>\n",
       "    <tr>\n",
       "      <th>4</th>\n",
       "      <td>1</td>\n",
       "      <td>13.24</td>\n",
       "      <td>2.59</td>\n",
       "    </tr>\n",
       "    <tr>\n",
       "      <th>...</th>\n",
       "      <td>...</td>\n",
       "      <td>...</td>\n",
       "      <td>...</td>\n",
       "    </tr>\n",
       "    <tr>\n",
       "      <th>173</th>\n",
       "      <td>3</td>\n",
       "      <td>13.71</td>\n",
       "      <td>5.65</td>\n",
       "    </tr>\n",
       "    <tr>\n",
       "      <th>174</th>\n",
       "      <td>3</td>\n",
       "      <td>13.40</td>\n",
       "      <td>3.91</td>\n",
       "    </tr>\n",
       "    <tr>\n",
       "      <th>175</th>\n",
       "      <td>3</td>\n",
       "      <td>13.27</td>\n",
       "      <td>4.28</td>\n",
       "    </tr>\n",
       "    <tr>\n",
       "      <th>176</th>\n",
       "      <td>3</td>\n",
       "      <td>13.17</td>\n",
       "      <td>2.59</td>\n",
       "    </tr>\n",
       "    <tr>\n",
       "      <th>177</th>\n",
       "      <td>3</td>\n",
       "      <td>14.13</td>\n",
       "      <td>4.10</td>\n",
       "    </tr>\n",
       "  </tbody>\n",
       "</table>\n",
       "<p>178 rows × 3 columns</p>\n",
       "</div>"
      ],
      "text/plain": [
       "     Class label  Alcohol  Malic acid\n",
       "0              1    14.23        1.71\n",
       "1              1    13.20        1.78\n",
       "2              1    13.16        2.36\n",
       "3              1    14.37        1.95\n",
       "4              1    13.24        2.59\n",
       "..           ...      ...         ...\n",
       "173            3    13.71        5.65\n",
       "174            3    13.40        3.91\n",
       "175            3    13.27        4.28\n",
       "176            3    13.17        2.59\n",
       "177            3    14.13        4.10\n",
       "\n",
       "[178 rows x 3 columns]"
      ]
     },
     "execution_count": 2,
     "metadata": {},
     "output_type": "execute_result"
    }
   ],
   "source": [
    "df"
   ]
  }
 ],
 "metadata": {
  "kernelspec": {
   "display_name": "Python 3",
   "language": "python",
   "name": "python3"
  },
  "language_info": {
   "codemirror_mode": {
    "name": "ipython",
    "version": 3
   },
   "file_extension": ".py",
   "mimetype": "text/x-python",
   "name": "python",
   "nbconvert_exporter": "python",
   "pygments_lexer": "ipython3",
   "version": "3.8.8"
  }
 },
 "nbformat": 4,
 "nbformat_minor": 5
}
