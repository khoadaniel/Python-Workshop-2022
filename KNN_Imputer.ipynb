{
 "cells": [
  {
   "cell_type": "markdown",
   "metadata": {},
   "source": [
    "### Use kNN to replace missing values"
   ]
  },
  {
   "cell_type": "code",
   "execution_count": 1,
   "metadata": {},
   "outputs": [],
   "source": [
    "import matplotlib.pyplot as plt  \n",
    "import numpy as np \n",
    "import pandas as pd \n",
    "import seaborn as sns "
   ]
  },
  {
   "cell_type": "markdown",
   "metadata": {},
   "source": [
    "Generate artificial data"
   ]
  },
  {
   "cell_type": "code",
   "execution_count": 2,
   "metadata": {},
   "outputs": [],
   "source": [
    "data = pd.DataFrame({'x': np.linspace(-6, 6), 'y': np.asarray([x1 * np.sin(x1) for x1 in np.linspace(-6, 6)])})"
   ]
  },
  {
   "cell_type": "code",
   "execution_count": 3,
   "metadata": {},
   "outputs": [
    {
     "data": {
      "text/html": [
       "<div>\n",
       "<style scoped>\n",
       "    .dataframe tbody tr th:only-of-type {\n",
       "        vertical-align: middle;\n",
       "    }\n",
       "\n",
       "    .dataframe tbody tr th {\n",
       "        vertical-align: top;\n",
       "    }\n",
       "\n",
       "    .dataframe thead th {\n",
       "        text-align: right;\n",
       "    }\n",
       "</style>\n",
       "<table border=\"1\" class=\"dataframe\">\n",
       "  <thead>\n",
       "    <tr style=\"text-align: right;\">\n",
       "      <th></th>\n",
       "      <th>x</th>\n",
       "      <th>y</th>\n",
       "    </tr>\n",
       "  </thead>\n",
       "  <tbody>\n",
       "    <tr>\n",
       "      <th>0</th>\n",
       "      <td>-6.000000</td>\n",
       "      <td>-1.676493</td>\n",
       "    </tr>\n",
       "    <tr>\n",
       "      <th>1</th>\n",
       "      <td>-5.755102</td>\n",
       "      <td>-2.899873</td>\n",
       "    </tr>\n",
       "    <tr>\n",
       "      <th>2</th>\n",
       "      <td>-5.510204</td>\n",
       "      <td>-3.847623</td>\n",
       "    </tr>\n",
       "    <tr>\n",
       "      <th>3</th>\n",
       "      <td>-5.265306</td>\n",
       "      <td>-4.480755</td>\n",
       "    </tr>\n",
       "    <tr>\n",
       "      <th>4</th>\n",
       "      <td>-5.020408</td>\n",
       "      <td>-4.784128</td>\n",
       "    </tr>\n",
       "  </tbody>\n",
       "</table>\n",
       "</div>"
      ],
      "text/plain": [
       "          x         y\n",
       "0 -6.000000 -1.676493\n",
       "1 -5.755102 -2.899873\n",
       "2 -5.510204 -3.847623\n",
       "3 -5.265306 -4.480755\n",
       "4 -5.020408 -4.784128"
      ]
     },
     "execution_count": 3,
     "metadata": {},
     "output_type": "execute_result"
    }
   ],
   "source": [
    "data.head()"
   ]
  },
  {
   "cell_type": "code",
   "execution_count": 4,
   "metadata": {
    "scrolled": true
   },
   "outputs": [
    {
     "data": {
      "image/png": "[encoded data removed]",
      "text/plain": [
       "<Figure size 432x288 with 1 Axes>"
      ]
     },
     "metadata": {
      "needs_background": "light"
     },
     "output_type": "display_data"
    }
   ],
   "source": [
    "sns.scatterplot(data=data, x='x', y='y');"
   ]
  },
  {
   "cell_type": "markdown",
   "metadata": {},
   "source": [
    "Let's delete some points at random"
   ]
  },
  {
   "cell_type": "code",
   "execution_count": 5,
   "metadata": {},
   "outputs": [],
   "source": [
    "missing_fraction = 0.2\n",
    "indices = np.random.randint(1, len(data.x) - 1, size=int((missing_fraction) * len(data.x)))"
   ]
  },
  {
   "cell_type": "code",
   "execution_count": 6,
   "metadata": {},
   "outputs": [
    {
     "data": {
      "text/plain": [
       "array([18, 42, 40, 47,  9, 23, 21, 23, 19, 34])"
      ]
     },
     "execution_count": 6,
     "metadata": {},
     "output_type": "execute_result"
    }
   ],
   "source": [
    "indices"
   ]
  },
  {
   "cell_type": "code",
   "execution_count": 7,
   "metadata": {},
   "outputs": [],
   "source": [
    "data.iloc[-indices, 1] = np.nan"
   ]
  },
  {
   "cell_type": "code",
   "execution_count": 9,
   "metadata": {},
   "outputs": [
    {
     "data": {
      "image/png": "[encoded data removed]",
      "text/plain": [
       "<Figure size 432x288 with 1 Axes>"
      ]
     },
     "metadata": {
      "needs_background": "light"
     },
     "output_type": "display_data"
    }
   ],
   "source": [
    "sns.scatterplot(data=data, x='x', y='y');"
   ]
  },
  {
   "cell_type": "markdown",
   "metadata": {},
   "source": [
    "Let's use a simple method:\n",
    "- Median"
   ]
  },
  {
   "cell_type": "code",
   "execution_count": 10,
   "metadata": {},
   "outputs": [
    {
     "data": {
      "image/png": "[encoded data removed]",
      "text/plain": [
       "<Figure size 432x288 with 1 Axes>"
      ]
     },
     "metadata": {
      "needs_background": "light"
     },
     "output_type": "display_data"
    }
   ],
   "source": [
    "sns.scatterplot(data=data.fillna(data.median()), x='x', y='y');"
   ]
  },
  {
   "cell_type": "code",
   "execution_count": 11,
   "metadata": {},
   "outputs": [
    {
     "data": {
      "text/plain": [
       "0.014956311913408763"
      ]
     },
     "execution_count": 11,
     "metadata": {},
     "output_type": "execute_result"
    }
   ],
   "source": [
    "data.y.median()"
   ]
  },
  {
   "cell_type": "code",
   "execution_count": 12,
   "metadata": {},
   "outputs": [
    {
     "data": {
      "text/plain": [
       "-4.440892098500626e-16"
      ]
     },
     "execution_count": 12,
     "metadata": {},
     "output_type": "execute_result"
    }
   ],
   "source": [
    "data.x.median()"
   ]
  },
  {
   "cell_type": "markdown",
   "metadata": {},
   "source": [
    "Use the KNN Imputer"
   ]
  },
  {
   "cell_type": "code",
   "execution_count": 13,
   "metadata": {},
   "outputs": [],
   "source": [
    "from sklearn.impute import KNNImputer"
   ]
  },
  {
   "cell_type": "markdown",
   "metadata": {},
   "source": [
    "### Exercise: use the KNNImputer to implace the data points and visualize the output"
   ]
  },
  {
   "cell_type": "code",
   "execution_count": 14,
   "metadata": {},
   "outputs": [
    {
     "name": "stdout",
     "output_type": "stream",
     "text": [
      "\u001b[0;31mInit signature:\u001b[0m\n",
      "\u001b[0mKNNImputer\u001b[0m\u001b[0;34m(\u001b[0m\u001b[0;34m\u001b[0m\n",
      "\u001b[0;34m\u001b[0m    \u001b[0;34m*\u001b[0m\u001b[0;34m,\u001b[0m\u001b[0;34m\u001b[0m\n",
      "\u001b[0;34m\u001b[0m    \u001b[0mmissing_values\u001b[0m\u001b[0;34m=\u001b[0m\u001b[0mnan\u001b[0m\u001b[0;34m,\u001b[0m\u001b[0;34m\u001b[0m\n",
      "\u001b[0;34m\u001b[0m    \u001b[0mn_neighbors\u001b[0m\u001b[0;34m=\u001b[0m\u001b[0;36m5\u001b[0m\u001b[0;34m,\u001b[0m\u001b[0;34m\u001b[0m\n",
      "\u001b[0;34m\u001b[0m    \u001b[0mweights\u001b[0m\u001b[0;34m=\u001b[0m\u001b[0;34m'uniform'\u001b[0m\u001b[0;34m,\u001b[0m\u001b[0;34m\u001b[0m\n",
      "\u001b[0;34m\u001b[0m    \u001b[0mmetric\u001b[0m\u001b[0;34m=\u001b[0m\u001b[0;34m'nan_euclidean'\u001b[0m\u001b[0;34m,\u001b[0m\u001b[0;34m\u001b[0m\n",
      "\u001b[0;34m\u001b[0m    \u001b[0mcopy\u001b[0m\u001b[0;34m=\u001b[0m\u001b[0;32mTrue\u001b[0m\u001b[0;34m,\u001b[0m\u001b[0;34m\u001b[0m\n",
      "\u001b[0;34m\u001b[0m    \u001b[0madd_indicator\u001b[0m\u001b[0;34m=\u001b[0m\u001b[0;32mFalse\u001b[0m\u001b[0;34m,\u001b[0m\u001b[0;34m\u001b[0m\n",
      "\u001b[0;34m\u001b[0m\u001b[0;34m)\u001b[0m\u001b[0;34m\u001b[0m\u001b[0;34m\u001b[0m\u001b[0m\n",
      "\u001b[0;31mDocstring:\u001b[0m     \n",
      "Imputation for completing missing values using k-Nearest Neighbors.\n",
      "\n",
      "Each sample's missing values are imputed using the mean value from\n",
      "`n_neighbors` nearest neighbors found in the training set. Two samples are\n",
      "close if the features that neither is missing are close.\n",
      "\n",
      "Read more in the :ref:`User Guide <knnimpute>`.\n",
      "\n",
      ".. versionadded:: 0.22\n",
      "\n",
      "Parameters\n",
      "----------\n",
      "missing_values : int, float, str, np.nan or None, default=np.nan\n",
      "    The placeholder for the missing values. All occurrences of\n",
      "    `missing_values` will be imputed. For pandas' dataframes with\n",
      "    nullable integer dtypes with missing values, `missing_values`\n",
      "    should be set to np.nan, since `pd.NA` will be converted to np.nan.\n",
      "\n",
      "n_neighbors : int, default=5\n",
      "    Number of neighboring samples to use for imputation.\n",
      "\n",
      "weights : {'uniform', 'distance'} or callable, default='uniform'\n",
      "    Weight function used in prediction.  Possible values:\n",
      "\n",
      "    - 'uniform' : uniform weights. All points in each neighborhood are\n",
      "      weighted equally.\n",
      "    - 'distance' : weight points by the inverse of their distance.\n",
      "      in this case, closer neighbors of a query point will have a\n",
      "      greater influence than neighbors which are further away.\n",
      "    - callable : a user-defined function which accepts an\n",
      "      array of distances, and returns an array of the same shape\n",
      "      containing the weights.\n",
      "\n",
      "metric : {'nan_euclidean'} or callable, default='nan_euclidean'\n",
      "    Distance metric for searching neighbors. Possible values:\n",
      "\n",
      "    - 'nan_euclidean'\n",
      "    - callable : a user-defined function which conforms to the definition\n",
      "      of ``_pairwise_callable(X, Y, metric, **kwds)``. The function\n",
      "      accepts two arrays, X and Y, and a `missing_values` keyword in\n",
      "      `kwds` and returns a scalar distance value.\n",
      "\n",
      "copy : bool, default=True\n",
      "    If True, a copy of X will be created. If False, imputation will\n",
      "    be done in-place whenever possible.\n",
      "\n",
      "add_indicator : bool, default=False\n",
      "    If True, a :class:`MissingIndicator` transform will stack onto the\n",
      "    output of the imputer's transform. This allows a predictive estimator\n",
      "    to account for missingness despite imputation. If a feature has no\n",
      "    missing values at fit/train time, the feature won't appear on the\n",
      "    missing indicator even if there are missing values at transform/test\n",
      "    time.\n",
      "\n",
      "Attributes\n",
      "----------\n",
      "indicator_ : :class:`~sklearn.impute.MissingIndicator`\n",
      "    Indicator used to add binary indicators for missing values.\n",
      "    ``None`` if add_indicator is False.\n",
      "\n",
      "References\n",
      "----------\n",
      "* Olga Troyanskaya, Michael Cantor, Gavin Sherlock, Pat Brown, Trevor\n",
      "  Hastie, Robert Tibshirani, David Botstein and Russ B. Altman, Missing\n",
      "  value estimation methods for DNA microarrays, BIOINFORMATICS Vol. 17\n",
      "  no. 6, 2001 Pages 520-525.\n",
      "\n",
      "Examples\n",
      "--------\n",
      ">>> import numpy as np\n",
      ">>> from sklearn.impute import KNNImputer\n",
      ">>> X = [[1, 2, np.nan], [3, 4, 3], [np.nan, 6, 5], [8, 8, 7]]\n",
      ">>> imputer = KNNImputer(n_neighbors=2)\n",
      ">>> imputer.fit_transform(X)\n",
      "array([[1. , 2. , 4. ],\n",
      "       [3. , 4. , 3. ],\n",
      "       [5.5, 6. , 5. ],\n",
      "       [8. , 8. , 7. ]])\n",
      "\u001b[0;31mFile:\u001b[0m           /usr/local/anaconda/lib/python3.8/site-packages/sklearn/impute/_knn.py\n",
      "\u001b[0;31mType:\u001b[0m           type\n",
      "\u001b[0;31mSubclasses:\u001b[0m     \n"
     ]
    }
   ],
   "source": [
    "?KNNImputer"
   ]
  },
  {
   "cell_type": "code",
   "execution_count": 21,
   "metadata": {},
   "outputs": [],
   "source": [
    "kNN = KNNImputer(n_neighbors=2)\n",
    "kNN.fit_transform(data)"
   ]
  },
  {
   "cell_type": "code",
   "execution_count": 29,
   "metadata": {},
   "outputs": [],
   "source": [
    "data2 = pd.DataFrame(kNN.fit_transform(data), columns=data.columns)"
   ]
  },
  {
   "cell_type": "code",
   "execution_count": 30,
   "metadata": {},
   "outputs": [
    {
     "data": {
      "image/png": "[encoded data removed]",
      "text/plain": [
       "<Figure size 432x288 with 1 Axes>"
      ]
     },
     "metadata": {
      "needs_background": "light"
     },
     "output_type": "display_data"
    }
   ],
   "source": [
    "sns.scatterplot(data=data2, x='x', y='y');"
   ]
  },
  {
   "cell_type": "code",
   "execution_count": 25,
   "metadata": {},
   "outputs": [
    {
     "data": {
      "text/html": [
       "<div>\n",
       "<style scoped>\n",
       "    .dataframe tbody tr th:only-of-type {\n",
       "        vertical-align: middle;\n",
       "    }\n",
       "\n",
       "    .dataframe tbody tr th {\n",
       "        vertical-align: top;\n",
       "    }\n",
       "\n",
       "    .dataframe thead th {\n",
       "        text-align: right;\n",
       "    }\n",
       "</style>\n",
       "<table border=\"1\" class=\"dataframe\">\n",
       "  <thead>\n",
       "    <tr style=\"text-align: right;\">\n",
       "      <th></th>\n",
       "      <th>x</th>\n",
       "      <th>y</th>\n",
       "    </tr>\n",
       "  </thead>\n",
       "  <tbody>\n",
       "    <tr>\n",
       "      <th>0</th>\n",
       "      <td>-6.000000</td>\n",
       "      <td>-1.676493</td>\n",
       "    </tr>\n",
       "    <tr>\n",
       "      <th>1</th>\n",
       "      <td>-5.755102</td>\n",
       "      <td>-2.899873</td>\n",
       "    </tr>\n",
       "    <tr>\n",
       "      <th>2</th>\n",
       "      <td>-5.510204</td>\n",
       "      <td>-3.847623</td>\n",
       "    </tr>\n",
       "    <tr>\n",
       "      <th>3</th>\n",
       "      <td>-5.265306</td>\n",
       "      <td>NaN</td>\n",
       "    </tr>\n",
       "    <tr>\n",
       "      <th>4</th>\n",
       "      <td>-5.020408</td>\n",
       "      <td>-4.784128</td>\n",
       "    </tr>\n",
       "    <tr>\n",
       "      <th>5</th>\n",
       "      <td>-4.775510</td>\n",
       "      <td>-4.766000</td>\n",
       "    </tr>\n",
       "    <tr>\n",
       "      <th>6</th>\n",
       "      <td>-4.530612</td>\n",
       "      <td>-4.455966</td>\n",
       "    </tr>\n",
       "    <tr>\n",
       "      <th>7</th>\n",
       "      <td>-4.285714</td>\n",
       "      <td>-3.901487</td>\n",
       "    </tr>\n",
       "    <tr>\n",
       "      <th>8</th>\n",
       "      <td>-4.040816</td>\n",
       "      <td>NaN</td>\n",
       "    </tr>\n",
       "    <tr>\n",
       "      <th>9</th>\n",
       "      <td>-3.795918</td>\n",
       "      <td>-2.310288</td>\n",
       "    </tr>\n",
       "    <tr>\n",
       "      <th>10</th>\n",
       "      <td>-3.551020</td>\n",
       "      <td>NaN</td>\n",
       "    </tr>\n",
       "    <tr>\n",
       "      <th>11</th>\n",
       "      <td>-3.306122</td>\n",
       "      <td>-0.541505</td>\n",
       "    </tr>\n",
       "    <tr>\n",
       "      <th>12</th>\n",
       "      <td>-3.061224</td>\n",
       "      <td>0.245760</td>\n",
       "    </tr>\n",
       "    <tr>\n",
       "      <th>13</th>\n",
       "      <td>-2.816327</td>\n",
       "      <td>0.899988</td>\n",
       "    </tr>\n",
       "    <tr>\n",
       "      <th>14</th>\n",
       "      <td>-2.571429</td>\n",
       "      <td>1.387980</td>\n",
       "    </tr>\n",
       "    <tr>\n",
       "      <th>15</th>\n",
       "      <td>-2.326531</td>\n",
       "      <td>1.693175</td>\n",
       "    </tr>\n",
       "    <tr>\n",
       "      <th>16</th>\n",
       "      <td>-2.081633</td>\n",
       "      <td>NaN</td>\n",
       "    </tr>\n",
       "    <tr>\n",
       "      <th>17</th>\n",
       "      <td>-1.836735</td>\n",
       "      <td>1.772167</td>\n",
       "    </tr>\n",
       "    <tr>\n",
       "      <th>18</th>\n",
       "      <td>-1.591837</td>\n",
       "      <td>1.591484</td>\n",
       "    </tr>\n",
       "    <tr>\n",
       "      <th>19</th>\n",
       "      <td>-1.346939</td>\n",
       "      <td>1.313330</td>\n",
       "    </tr>\n",
       "    <tr>\n",
       "      <th>20</th>\n",
       "      <td>-1.102041</td>\n",
       "      <td>0.983165</td>\n",
       "    </tr>\n",
       "    <tr>\n",
       "      <th>21</th>\n",
       "      <td>-0.857143</td>\n",
       "      <td>0.647979</td>\n",
       "    </tr>\n",
       "    <tr>\n",
       "      <th>22</th>\n",
       "      <td>-0.612245</td>\n",
       "      <td>0.351861</td>\n",
       "    </tr>\n",
       "    <tr>\n",
       "      <th>23</th>\n",
       "      <td>-0.367347</td>\n",
       "      <td>0.131929</td>\n",
       "    </tr>\n",
       "    <tr>\n",
       "      <th>24</th>\n",
       "      <td>-0.122449</td>\n",
       "      <td>0.014956</td>\n",
       "    </tr>\n",
       "    <tr>\n",
       "      <th>25</th>\n",
       "      <td>0.122449</td>\n",
       "      <td>0.014956</td>\n",
       "    </tr>\n",
       "    <tr>\n",
       "      <th>26</th>\n",
       "      <td>0.367347</td>\n",
       "      <td>0.131929</td>\n",
       "    </tr>\n",
       "    <tr>\n",
       "      <th>27</th>\n",
       "      <td>0.612245</td>\n",
       "      <td>NaN</td>\n",
       "    </tr>\n",
       "    <tr>\n",
       "      <th>28</th>\n",
       "      <td>0.857143</td>\n",
       "      <td>0.647979</td>\n",
       "    </tr>\n",
       "    <tr>\n",
       "      <th>29</th>\n",
       "      <td>1.102041</td>\n",
       "      <td>NaN</td>\n",
       "    </tr>\n",
       "    <tr>\n",
       "      <th>30</th>\n",
       "      <td>1.346939</td>\n",
       "      <td>1.313330</td>\n",
       "    </tr>\n",
       "    <tr>\n",
       "      <th>31</th>\n",
       "      <td>1.591837</td>\n",
       "      <td>NaN</td>\n",
       "    </tr>\n",
       "    <tr>\n",
       "      <th>32</th>\n",
       "      <td>1.836735</td>\n",
       "      <td>NaN</td>\n",
       "    </tr>\n",
       "    <tr>\n",
       "      <th>33</th>\n",
       "      <td>2.081633</td>\n",
       "      <td>1.815883</td>\n",
       "    </tr>\n",
       "    <tr>\n",
       "      <th>34</th>\n",
       "      <td>2.326531</td>\n",
       "      <td>1.693175</td>\n",
       "    </tr>\n",
       "    <tr>\n",
       "      <th>35</th>\n",
       "      <td>2.571429</td>\n",
       "      <td>1.387980</td>\n",
       "    </tr>\n",
       "    <tr>\n",
       "      <th>36</th>\n",
       "      <td>2.816327</td>\n",
       "      <td>0.899988</td>\n",
       "    </tr>\n",
       "    <tr>\n",
       "      <th>37</th>\n",
       "      <td>3.061224</td>\n",
       "      <td>0.245760</td>\n",
       "    </tr>\n",
       "    <tr>\n",
       "      <th>38</th>\n",
       "      <td>3.306122</td>\n",
       "      <td>-0.541505</td>\n",
       "    </tr>\n",
       "    <tr>\n",
       "      <th>39</th>\n",
       "      <td>3.551020</td>\n",
       "      <td>-1.413606</td>\n",
       "    </tr>\n",
       "    <tr>\n",
       "      <th>40</th>\n",
       "      <td>3.795918</td>\n",
       "      <td>-2.310288</td>\n",
       "    </tr>\n",
       "    <tr>\n",
       "      <th>41</th>\n",
       "      <td>4.040816</td>\n",
       "      <td>NaN</td>\n",
       "    </tr>\n",
       "    <tr>\n",
       "      <th>42</th>\n",
       "      <td>4.285714</td>\n",
       "      <td>-3.901487</td>\n",
       "    </tr>\n",
       "    <tr>\n",
       "      <th>43</th>\n",
       "      <td>4.530612</td>\n",
       "      <td>-4.455966</td>\n",
       "    </tr>\n",
       "    <tr>\n",
       "      <th>44</th>\n",
       "      <td>4.775510</td>\n",
       "      <td>-4.766000</td>\n",
       "    </tr>\n",
       "    <tr>\n",
       "      <th>45</th>\n",
       "      <td>5.020408</td>\n",
       "      <td>-4.784128</td>\n",
       "    </tr>\n",
       "    <tr>\n",
       "      <th>46</th>\n",
       "      <td>5.265306</td>\n",
       "      <td>-4.480755</td>\n",
       "    </tr>\n",
       "    <tr>\n",
       "      <th>47</th>\n",
       "      <td>5.510204</td>\n",
       "      <td>-3.847623</td>\n",
       "    </tr>\n",
       "    <tr>\n",
       "      <th>48</th>\n",
       "      <td>5.755102</td>\n",
       "      <td>-2.899873</td>\n",
       "    </tr>\n",
       "    <tr>\n",
       "      <th>49</th>\n",
       "      <td>6.000000</td>\n",
       "      <td>-1.676493</td>\n",
       "    </tr>\n",
       "  </tbody>\n",
       "</table>\n",
       "</div>"
      ],
      "text/plain": [
       "           x         y\n",
       "0  -6.000000 -1.676493\n",
       "1  -5.755102 -2.899873\n",
       "2  -5.510204 -3.847623\n",
       "3  -5.265306       NaN\n",
       "4  -5.020408 -4.784128\n",
       "5  -4.775510 -4.766000\n",
       "6  -4.530612 -4.455966\n",
       "7  -4.285714 -3.901487\n",
       "8  -4.040816       NaN\n",
       "9  -3.795918 -2.310288\n",
       "10 -3.551020       NaN\n",
       "11 -3.306122 -0.541505\n",
       "12 -3.061224  0.245760\n",
       "13 -2.816327  0.899988\n",
       "14 -2.571429  1.387980\n",
       "15 -2.326531  1.693175\n",
       "16 -2.081633       NaN\n",
       "17 -1.836735  1.772167\n",
       "18 -1.591837  1.591484\n",
       "19 -1.346939  1.313330\n",
       "20 -1.102041  0.983165\n",
       "21 -0.857143  0.647979\n",
       "22 -0.612245  0.351861\n",
       "23 -0.367347  0.131929\n",
       "24 -0.122449  0.014956\n",
       "25  0.122449  0.014956\n",
       "26  0.367347  0.131929\n",
       "27  0.612245       NaN\n",
       "28  0.857143  0.647979\n",
       "29  1.102041       NaN\n",
       "30  1.346939  1.313330\n",
       "31  1.591837       NaN\n",
       "32  1.836735       NaN\n",
       "33  2.081633  1.815883\n",
       "34  2.326531  1.693175\n",
       "35  2.571429  1.387980\n",
       "36  2.816327  0.899988\n",
       "37  3.061224  0.245760\n",
       "38  3.306122 -0.541505\n",
       "39  3.551020 -1.413606\n",
       "40  3.795918 -2.310288\n",
       "41  4.040816       NaN\n",
       "42  4.285714 -3.901487\n",
       "43  4.530612 -4.455966\n",
       "44  4.775510 -4.766000\n",
       "45  5.020408 -4.784128\n",
       "46  5.265306 -4.480755\n",
       "47  5.510204 -3.847623\n",
       "48  5.755102 -2.899873\n",
       "49  6.000000 -1.676493"
      ]
     },
     "execution_count": 25,
     "metadata": {},
     "output_type": "execute_result"
    }
   ],
   "source": [
    "data"
   ]
  },
  {
   "cell_type": "code",
   "execution_count": null,
   "metadata": {},
   "outputs": [],
   "source": []
  }
 ],
 "metadata": {
  "kernelspec": {
   "display_name": "Python 3",
   "language": "python",
   "name": "python3"
  },
  "language_info": {
   "codemirror_mode": {
    "name": "ipython",
    "version": 3
   },
   "file_extension": ".py",
   "mimetype": "text/x-python",
   "name": "python",
   "nbconvert_exporter": "python",
   "pygments_lexer": "ipython3",
   "version": "3.8.8"
  }
 },
 "nbformat": 4,
 "nbformat_minor": 4
}
